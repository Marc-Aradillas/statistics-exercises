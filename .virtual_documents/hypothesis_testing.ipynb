






































import numpy as np
import pandas as pd

from pydataset import data
from scipy import stats
from scipy.stats import chi2_contingency











# made the table to use the data
data = {
    'Codeup Student': [49, 1],
    'Not Codeup Student': [20, 30]
}
contingency_table = pd.DataFrame(data, index=['Uses a Macbook', "Doesn't Use A Macbook"])


#implemened the chi squared contingency test
chi, p, degf, exp = stats.chi2_contingency(contingency_table)


chi


p


degf


exp


contingency_table


a = 0.05


if p < a:
    print('We reject the null hypothesis. There appears to be a relationship.')
else: print('We failed to reject the null hypothesis.')














import numpy as np
import pandas as pd

from pydataset import data
from scipy import stats
from scipy.stats import chi2_contingency

#imported data
mpg = data('mpg')
mpg.head()











#stated alpha
a = 0.05





observed = pd.crosstab(mpg.drv, mpg.cyl)
observed


#implemened the chi squared contingency test
chi, p, degf, exp = stats.chi2_contingency(observed)


chi


p


degf


exp





if p < a:
    print('We reject the null hypothesis. There appears to be a relationship.')
else: print('We failed to reject the null hypothesis.')





# DS Libs
import numpy as np
import pandas as pd
import matplotlib.pyplot as plt

from scipy import stats
from pydataset import data
from env import get_connection
from sqlalchemy import create_engine, text


def get_db_url(database):
    return get_connection(database)


url = get_db_url('employees')
query = text('SELECT * FROM employees')
engine = create_engine(url)
employees = pd.read_sql(query, engine.connect())


employees.head()





url = get_db_url('employees')
query = text('SELECT * FROM dept_emp LEFT JOIN employees ON dept_emp.emp_no = employees.emp_no WHERE  CURDATE() > to_date')
engine = create_engine(url)
employees = pd.read_sql(query, engine.connect())


employees.head()









