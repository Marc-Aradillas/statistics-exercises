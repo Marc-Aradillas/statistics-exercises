%autosave 0





import numpy as np
import pandas as pd

from pydataset import data
from scipy import stats





mpg = data('mpg')
mpg.head()






























