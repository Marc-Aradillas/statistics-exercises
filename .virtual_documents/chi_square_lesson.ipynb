%autosave 0





import numpy as np
import pandas as pd

from pydataset import data
from scipy import stats





mpg = data('mpg')
mpg.head()





mpg['mean_mpg'] = (mpg.cty + mpg.hwy) / 2
mpg.head()


mpg['mpg_cat'] = pd.qcut(mpg.mean_mpg, 2, labels = ['low_mpg', 'high-mpg']) #instead of continous values, we now hav either high or low mpg.
mpg.head()


mpg.mpg_cat.value_counts() #pd qcut making 2 bins ; we hvae categorized our cars.


mpg['trans_bin'] = np.where(mpg.trans.str.startswith('a'), 'auto', 'manual')
mpg.head()














#this is the correct type of object to feed into the chi-squared test
ct = pd.crosstab(mpg.mpg_cat, mpg.trans_bin)


chi, p, degf, exp = stats.chi2_contingency(ct)


degf


exp


ct





ct





a = 0.05


if p < a:
    print('We reject the null hypothesis. There appears to be a relationship.')
else: print('We failed to reject the null hypothesis.')





def the_returner(x):
    return x * 2, x ** 2, x ** 3, x * x


the_returner(5)


times_two, squared, cubes, times_itself = the_returner(5)


squared
