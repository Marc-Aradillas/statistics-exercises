%autosave 0


#imports
import pandas as pd
import matplotlib.pyplot as plt

from scipy import stats
from pydataset import data


df = data('tips')
df.head()

# size column is categorical data
# total_bill and tip columns are continuous data





# define population mean
overall_tip = df.tip.mean()


# boolean mask to return all of the tables where party size is 2.
df[df['size'] == 2]


# then off the mask we call the tip column
df[df['size'] == 2].tip


# then we're going to sace this and assign it to 'tip_for_two'
tip_for_two =df[df['size'] == 2].tip


t_two, p_two = stats.ttest_1samp(tip_for_two, overall_tip)
t_two, p_two


ax = plt.axes()
ax.set_facecolor("cyan")
plt.hist(df.tip, label = 'Population')
plt.hist(tip_for_two, label = 'party of two')
plt.vlines(overall_tip, 0, 80, color = 'yellow')
plt.legend()
plt.show()


a = 0.05

if p_two < a:

    print('We reject the null hypothesis.')

else:

    print('We failed to reject the null hypothesis.')





# boolean mask to return data wth time values with lunch
df[df.time == 'Lunch']


# return a dsitribution of values by calling total_bill column
df[df.time == 'Lunch'].total_bill


# create 2 samples of distribution for a 2 sample t-test


lunch_bills = df[df.time == 'Lunch'].total_bill


dinner_bills = df[df.time == 'Dinner'].total_bill


# Plot data for visualization comparison
plt.hist(lunch_bills, label = 'lunch bills')
plt.hist(dinner_bills, label = 'dinner bills', alpha = 0.4)
plt.legend()
plt.show()


# we are going to compare the first distribution to the second distribution to receive a p_value form the perpective from the dinner bills perspective
t_time, p_time = stats.ttest_ind(dinner_bills, lunch_bills)
t_time, p_time


# define alpha value ad t condition

a = 0.05

if t_time > 0 and (p_time / 2 < a):

    print('We reject the null hypothesis.')

else:

    print('We fail to reject the null hypothesis.')



