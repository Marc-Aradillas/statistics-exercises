





# DS Libs
import numpy as np
import pandas as pd
import matplotlib.pyplot as plt

from scipy import stats
from pydataset import data
from env import get_connection
from sqlalchemy import create_engine, text





avg_cars = stats.poisson(2)
avg_cars


y = [avg_cars.pmf(i) for i in range(0,11)]
y


plt.bar(x = range(0,11), height = y)


avg_cars.pmf(0)


avg_cars.sf(2) # need to use survivor function


avg_cars.sf(0) # need to use survivor function























gpa = stats.norm(3.0, 0.3)


gpa.isf(0.05)


gpa.ppf(0.15)

















# instructor implementation

third_decile = gpa.ppf([.20,.30])


# list comprehension to list the range
third_decile = [gpa.ppf(n/10) for n in (2, 3)]


third_decile








gpa.cdf(3.5)


gpa.sf(3.5)








probability = stats.binom.pmf(97, 4326, 0.02)


probability


x = np.arange(0, 4326)
y = stats.binom.pmf(x, 4326, 0.02)
plt.plot(x, y)
plt.show()





probabilities = np.random.default_rng(seed = 42)


answers = probabilities.random((100, 1))
answers[:5]


answers_rounded = np.round(answers, 2, out=None)
answers_rounded[:5]








answers_rounded = stats.binom(60, 0.01).sf(0)


answers_rounded





students = 66 * (9/10)


round(students)


clean = stats.binom.pmf(1, 59, 0.03)


clean


not_clean = stats.binom.pmf(2, 59, 0.03)


not_clean


clean = stats.binom.pmf(7, 59, 0.03)


clean





# the time it takes to get through the line. The time it takes to 
# get through the line is the product of the number of people in line and 
# the time it takes to order each person. In this case, the time it takes 
# to get through the line is 2 * 15 = 30 minutes
time_order = 2 * 15
time_order


# 30 minutes ot order


order_and_wait = time_order + 10


order_and_wait


time_available = 60 - order_and_wait


time_available


time = stats.norm.cdf(10, 15, 3)


time





def get_db_url(database):
    return get_connection(database)


url = get_db_url('employees')
query = text('SELECT * FROM salaries where to_date >now()')
engine = create_engine(url)
salaries = pd.read_sql(query, engine.connect())


salaries.head()


mean= salaries.salary.mean()
mean


std_dev= salaries.salary.std()
std_dev


np.diff(stats.norm(mean, std_dev).cdf([65_000,80_000]))


stats.norm(mean, std_dev).isf(.05)





stats.norm(mean, std_dev).cdf(60_000)





stats.norm(mean, std_dev).sf(95000)





np.diff(stats.norm(mean, std_dev).cdf([65000,80000]))





stats.norm(mean, std_dev).isf(.05)


salaries.salary.hist()
pd.Series(stats.norm(mean, std_dev).rvs(240124)).hist(alpha = 0.5)





"""
import pandas as pd
import env
from sqlalchemy import text, create_engine

url = f'mysql+pymysql://{env.user}:{env.password}@{env.host}/employees'
engine = create_engine(url)    
pd.read_sql(text('SELECT * FROM departments'), engine.connect())


While time is the most common interval used, the poisson distribution can also be used for intervals like distance, area, or volume. ↩
"""
