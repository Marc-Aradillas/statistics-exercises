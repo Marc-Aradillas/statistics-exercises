%autosave 0





import numpy as np
import pandas as pd

import matplotlib.pyplot as plt





rng = np.random.default_rng(seed = 42) # create a rand num generator


rng.choice([1, 3, 5, 7, 9], (10, 2))






rng.integers(1, 11, (10, 2)) #was uniform


rng.random((10,2)) 


rng.normal(0, 1, (10, 2)) #define a mean, std, and return col.rows (sampling from it)








#0 is tails, 1 is heads
flips = rng.choice([0, 1], (10_000, 3))
flips[:5]





flips_sum = flips.sum(axis = 1)
flips_sum[:5]


flips_sum == 3 # returns boolean values -- True = 1 and False = 0


(flips_sum == 3).sum()


wins = (flips_sum == 3).sum() # divide wins by the total number of trials
wins / len(flips_sum)








weeks = rng.random((1_000, 5))
weeks[:5]


weeks <= 0.1


(weeks <= 0.1).sum(axis = 1)



did_forget = (weeks <= 0.1).sum(axis = 1)
did_forget[:5]


did_forget != 0


Three = (did_forget == 3).sum()
Three


total_forgot = (did_forget != 0).sum()


total_forgot


total_forgot / len(did_forget)


plt.hist(did_forget)











wd_projects = rng.normal(5, 2, 1_000)
ds_projects = rng.normal(8, 1, 1_000)


num_higher = (wd_projects >= ds_projects).sum()
num_higher


num_higher / len(ds_projects)
