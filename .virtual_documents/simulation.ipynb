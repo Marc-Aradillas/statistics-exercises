


import numpy as np
import pandas as pd

import matplotlib.pyplot as plt


rng = np.random.default_rng(seed = 42) # create a rand num generator





doubles = rng.choice([1, 2, 3, 4, 5, 6], (10_000, 2))
doubles


doubles[:, 0] # isolate column one by index slicing; returns 1st column


doubles[:, 1] # could have used axis sum


(doubles[:, 1] == doubles[:, 0]).sum() # used .sum() method to returns all doubles


rolled_double = (doubles[:, 1] == doubles[:, 0]).sum() # assigned variable to all doubles
rolled_double


rolled_double/len(doubles)





flips = rng.choice([0, 1], (10_000, 8))
flips[:5]


flips_sum = flips.sum(axis = 1)
flips_sum[:5]


flips_sum == 3


(flips_sum == 3).sum()


exactly_threes = (flips_sum == 3).sum()
exactly_threes / len(flips_sum)


more_than_three = (flips_sum > 3).sum()
more_than_three / len(flips_sum)





billboard_choices = rng.choice([1, 2, 3, 4], (10_000, 2))
billboard_choices


ds_cohort = ((billboard_choices[:, 0] + billboard_choices[:, 1]) == 2).sum()
ds_cohort / len(billboard_choices)





cs = rng.normal(3, 1.5, (10_000, 5))
cs_eaten = cs.sum(axis = 1)
cs_eaten


poptarts_likely = (cs_eaten < 17).sum()
poptarts_likely/ len(cs_eaten)








men = rng.normal(178, 8, 10_000)
men





women = rng.normal(170, 6, 10_000)
women








women > men


women_taller = (women > men).sum()
women_taller / len(women)





corruption_chance = 1/250
corruption_chance


 fifty_failed = (rng.random((10_000, 50)) > corruption_chance).prod(axis=1).mean()


fifty_failed


 one_hundred_failed = (rng.random((10_000, 100)) > corruption_chance).prod(axis=1).mean()


one_hundred_failed





# subtract the result from 1 to get the proportion of rows with a successful installation (no corruption)
one_hundred_fifty = 1 - (rng.random((10_000, 150)) > corruption_chance).prod(axis=1).mean()


one_hundred_fifty





four_hundred_fifty = (rng.random((10_000, 450)) > corruption_chance).prod(axis=1).mean()


four_hundred_fifty





three_days = (rng.random((10_000, 3)) > .7).prod(axis=1).mean()
three_days





week = (rng.random((10_000, 7)) <= .7).prod(axis=1).mean()
week





bday_23 = rng.integers(1, 366, (10_000, 23))
bday_23 = pd.DataFrame(bday_23)
bday_23.head()


share_bday_23 = (bday_23.nunique(axis=1) < 23).sum()


share_bday_23 / len(bday_23)


bday_20 = rng.integers(1, 366, (10_000, 20))
bday_20 = pd.DataFrame(bday_20)
bday_20.head()


share_bday_20 = (bday_20.nunique(axis=1) < 20).sum()


share_bday_20 / len(bday_20)


bday_40 = rng.integers(1, 366, (10_000, 40))
bday_40 = pd.DataFrame(bday_40)
bday_40.head()


share_bday_40 = (bday_40.nunique(axis=1) < 40).sum()


share_bday_40 / len(bday_40)






































# Create a random number generator
rng = np.random.default_rng()

# Function to simulate a single mage duel
def simulate_duel():
    # Your wizard's health and damage
    your_health = rng.integers(1, 5, 10).sum()
    your_spell_damage = rng.integers(1, 5, 10).sum()

    # Opposing mage's health and damage
    opposing_health = rng.integers(1, 7, 10).sum()
    opposing_spell_damage = rng.integers(1, 7, 10).sum()

    # Simulate the duel
    while your_health > 0 and opposing_health > 0:
        opposing_health -= your_spell_damage
        your_health -= opposing_spell_damage

    # Return the winner (1: Your wizard wins, -1: Opposing mage wins, 0: Draw)
    if your_health > 0:
        return 1
    elif opposing_health > 0:
        return -1
    else:
        return 0

# Simulate 10 mage duels
sim_10_duels = [simulate_duel() for _ in range(10)]

# Count the number of wins for each mage
wins_your_wizard = sim_10_duels.count(1)
wins_opposing_mage = sim_10_duels.count(-1)
draws = sim_10_duels.count(0)

# Print the results of 10 duels
print("Results after 10 duels:")
print(f"Your wizard wins: {wins_your_wizard}")
print(f"Opposing mage wins: {wins_opposing_mage}")
print(f"Draws: {draws}")

