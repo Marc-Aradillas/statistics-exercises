%autosave 0


import numpy as np
from scipy import stats

import matplotlib.pyplot as plt





dice_rolls = stats.randint(1, 7)





dice_rolls.rvs(10)





vals = dice_rolls.rvs(10_000)


plt.hist(vals, bins = range(1,8), align = 'left', color = 'gray', ec = 'black')





dice_rolls.pmf(3)


dice_rolls.pmf(5)





dice_rolls.cdf(3)


dice_rolls.cdf(6) #inclusive nature of the boundary set with this function


dice_rolls.ppf(0.5) #percent point function


dice_rolls.ppf(2/3)


dice_rolls.cdf(4)





dice_rolls.sf(4)


dice_rolls.cdf(4)


dice_rolls.isf(2/3)


dice_rolls.sf(2)





# we are going to etsblish hoow many trials and the probability of success.
attendance = stats.binom(8, 0.95)
attendance


attendance.pmf(8)


attendance.sf(5)


attendance.rvs(10)





# pmf function used to show of the odds of none would show up
y = [attendance.pmf(i) for i in range(0, 9)]
y


plt.bar(x = range(0, 9), height = y) 


# what are the odd of 0 to 5 people that arrive on any give day and it's less than one percent.
attendance.cdf(5) 





monthly_sales = stats.norm(23_000, 2_500)


monthly_sales.pdf(24_000)


monthly_sales.sf(25_000)


monthly_sales.isf(0.10)


monthly_sales.ppf(0.10)





drank_coffee = stats.poisson(15)


drank_coffee.sf(19)


drank_coffee.pmf(15)


y_poisson = [drank_coffee.pmf(i) for i in range(0, 26)]
y_poisson 


plt.bar(x = range(0, 26), height = y_poisson, align = 'edge')
