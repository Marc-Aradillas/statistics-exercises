






































import numpy as np
import pandas as pd

from pydataset import data
from scipy import stats








# Create the contingency table using pandas DataFrame
data = {
    'Codeup Student': [49, 1],
    'Not Codeup Student': [20, 30]
}
contingency_table = pd.DataFrame(data, index=['Uses a Macbook', "Doesn't Use A Macbook"])






# State our alpha to set our confidence interval.
alpha = 0.05





observed = pd.crosstab(mpg.drv, mpg.transmission)
observed








import pandas as pd
import numpy as np
import matplotlib.pyplot as plt

from pydataset import data
from scipy import stats


mpg = data('mpg')
mpg.head()







































