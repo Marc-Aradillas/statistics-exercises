















































# State our alpha to set our confidence interval.
alpha = 0.05





observed = pd.crosstab(mpg.drv, mpg.transmission)
observed








import pandas as pd
import numpy as np
import matplotlib.pyplot as plt

from pydataset import data
from scipy import stats


mpg = data('mpg')
mpg.head()







































