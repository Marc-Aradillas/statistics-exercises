{
 "cells": [
  {
   "cell_type": "code",
   "execution_count": 1,
   "id": "fbbd2b02",
   "metadata": {},
   "outputs": [
    {
     "data": {
      "application/javascript": [
       "IPython.notebook.set_autosave_interval(0)"
      ]
     },
     "metadata": {},
     "output_type": "display_data"
    },
    {
     "name": "stdout",
     "output_type": "stream",
     "text": [
      "Autosave disabled\n"
     ]
    }
   ],
   "source": [
    "%autosave 0"
   ]
  },
  {
   "cell_type": "markdown",
   "id": "c1272568",
   "metadata": {},
   "source": [
    "We are going to skip the hard way because we are lazy programmers!\n",
    "\n",
    "It's there as a resource to understand how the correlation coefficient is calculated."
   ]
  },
  {
   "cell_type": "code",
   "execution_count": 2,
   "id": "9c9b56bb",
   "metadata": {},
   "outputs": [],
   "source": [
    "import numpy as np\n",
    "import pandas as pd\n",
    "import matplotlib.pyplot as plt\n",
    "\n",
    "from scipy import stats\n",
    "from pydataset import data"
   ]
  },
  {
   "cell_type": "markdown",
   "id": "76ea889c",
   "metadata": {},
   "source": [
    "Let's do an example from the mpg dataset."
   ]
  },
  {
   "cell_type": "code",
   "execution_count": 3,
   "id": "224bea76",
   "metadata": {},
   "outputs": [
    {
     "data": {
      "text/html": [
       "<div>\n",
       "<style scoped>\n",
       "    .dataframe tbody tr th:only-of-type {\n",
       "        vertical-align: middle;\n",
       "    }\n",
       "\n",
       "    .dataframe tbody tr th {\n",
       "        vertical-align: top;\n",
       "    }\n",
       "\n",
       "    .dataframe thead th {\n",
       "        text-align: right;\n",
       "    }\n",
       "</style>\n",
       "<table border=\"1\" class=\"dataframe\">\n",
       "  <thead>\n",
       "    <tr style=\"text-align: right;\">\n",
       "      <th></th>\n",
       "      <th>manufacturer</th>\n",
       "      <th>model</th>\n",
       "      <th>displ</th>\n",
       "      <th>year</th>\n",
       "      <th>cyl</th>\n",
       "      <th>trans</th>\n",
       "      <th>drv</th>\n",
       "      <th>cty</th>\n",
       "      <th>hwy</th>\n",
       "      <th>fl</th>\n",
       "      <th>class</th>\n",
       "    </tr>\n",
       "  </thead>\n",
       "  <tbody>\n",
       "    <tr>\n",
       "      <th>1</th>\n",
       "      <td>audi</td>\n",
       "      <td>a4</td>\n",
       "      <td>1.8</td>\n",
       "      <td>1999</td>\n",
       "      <td>4</td>\n",
       "      <td>auto(l5)</td>\n",
       "      <td>f</td>\n",
       "      <td>18</td>\n",
       "      <td>29</td>\n",
       "      <td>p</td>\n",
       "      <td>compact</td>\n",
       "    </tr>\n",
       "    <tr>\n",
       "      <th>2</th>\n",
       "      <td>audi</td>\n",
       "      <td>a4</td>\n",
       "      <td>1.8</td>\n",
       "      <td>1999</td>\n",
       "      <td>4</td>\n",
       "      <td>manual(m5)</td>\n",
       "      <td>f</td>\n",
       "      <td>21</td>\n",
       "      <td>29</td>\n",
       "      <td>p</td>\n",
       "      <td>compact</td>\n",
       "    </tr>\n",
       "    <tr>\n",
       "      <th>3</th>\n",
       "      <td>audi</td>\n",
       "      <td>a4</td>\n",
       "      <td>2.0</td>\n",
       "      <td>2008</td>\n",
       "      <td>4</td>\n",
       "      <td>manual(m6)</td>\n",
       "      <td>f</td>\n",
       "      <td>20</td>\n",
       "      <td>31</td>\n",
       "      <td>p</td>\n",
       "      <td>compact</td>\n",
       "    </tr>\n",
       "    <tr>\n",
       "      <th>4</th>\n",
       "      <td>audi</td>\n",
       "      <td>a4</td>\n",
       "      <td>2.0</td>\n",
       "      <td>2008</td>\n",
       "      <td>4</td>\n",
       "      <td>auto(av)</td>\n",
       "      <td>f</td>\n",
       "      <td>21</td>\n",
       "      <td>30</td>\n",
       "      <td>p</td>\n",
       "      <td>compact</td>\n",
       "    </tr>\n",
       "    <tr>\n",
       "      <th>5</th>\n",
       "      <td>audi</td>\n",
       "      <td>a4</td>\n",
       "      <td>2.8</td>\n",
       "      <td>1999</td>\n",
       "      <td>6</td>\n",
       "      <td>auto(l5)</td>\n",
       "      <td>f</td>\n",
       "      <td>16</td>\n",
       "      <td>26</td>\n",
       "      <td>p</td>\n",
       "      <td>compact</td>\n",
       "    </tr>\n",
       "  </tbody>\n",
       "</table>\n",
       "</div>"
      ],
      "text/plain": [
       "  manufacturer model  displ  year  cyl       trans drv  cty  hwy fl    class\n",
       "1         audi    a4    1.8  1999    4    auto(l5)   f   18   29  p  compact\n",
       "2         audi    a4    1.8  1999    4  manual(m5)   f   21   29  p  compact\n",
       "3         audi    a4    2.0  2008    4  manual(m6)   f   20   31  p  compact\n",
       "4         audi    a4    2.0  2008    4    auto(av)   f   21   30  p  compact\n",
       "5         audi    a4    2.8  1999    6    auto(l5)   f   16   26  p  compact"
      ]
     },
     "execution_count": 3,
     "metadata": {},
     "output_type": "execute_result"
    }
   ],
   "source": [
    "mpg = data('mpg')\n",
    "mpg.head()"
   ]
  },
  {
   "cell_type": "code",
   "execution_count": 4,
   "id": "27cd95af",
   "metadata": {},
   "outputs": [
    {
     "name": "stdout",
     "output_type": "stream",
     "text": [
      "<class 'pandas.core.frame.DataFrame'>\n",
      "Int64Index: 234 entries, 1 to 234\n",
      "Data columns (total 11 columns):\n",
      " #   Column        Non-Null Count  Dtype  \n",
      "---  ------        --------------  -----  \n",
      " 0   manufacturer  234 non-null    object \n",
      " 1   model         234 non-null    object \n",
      " 2   displ         234 non-null    float64\n",
      " 3   year          234 non-null    int64  \n",
      " 4   cyl           234 non-null    int64  \n",
      " 5   trans         234 non-null    object \n",
      " 6   drv           234 non-null    object \n",
      " 7   cty           234 non-null    int64  \n",
      " 8   hwy           234 non-null    int64  \n",
      " 9   fl            234 non-null    object \n",
      " 10  class         234 non-null    object \n",
      "dtypes: float64(1), int64(4), object(6)\n",
      "memory usage: 21.9+ KB\n"
     ]
    }
   ],
   "source": [
    "mpg.info()"
   ]
  },
  {
   "cell_type": "code",
   "execution_count": 5,
   "id": "f41f368b-f0d5-48c9-b127-f7b6c8090f19",
   "metadata": {},
   "outputs": [
    {
     "data": {
      "text/plain": [
       "4    81\n",
       "6    79\n",
       "8    70\n",
       "5     4\n",
       "Name: cyl, dtype: int64"
      ]
     },
     "execution_count": 5,
     "metadata": {},
     "output_type": "execute_result"
    }
   ],
   "source": [
    "mpg.cyl.value_counts()"
   ]
  },
  {
   "cell_type": "code",
   "execution_count": 21,
   "id": "8ce84bcf-210d-4d3d-bd33-7f5945772a7b",
   "metadata": {},
   "outputs": [
    {
     "data": {
      "image/png": "[encoded data removed]",
      "text/plain": [
       "<Figure size 640x480 with 1 Axes>"
      ]
     },
     "metadata": {},
     "output_type": "display_data"
    }
   ],
   "source": [
    "#always create a visual to accomodate the stats tests\n",
    "\n",
    "plt.scatter(mpg.cty, mpg.hwy, color='RebeccaPurple')\n",
    "plt.xlabel('City MPG')\n",
    "plt.ylabel('Highway MPG')\n",
    "plt.title('MPG')\n",
    "plt.grid()\n",
    "plt.show()"
   ]
  },
  {
   "cell_type": "code",
   "execution_count": 23,
   "id": "d29d4a96-19ed-4b02-9fbd-c036f309a741",
   "metadata": {},
   "outputs": [
    {
     "data": {
      "text/plain": [
       "(0.9559159136495713, 1.8683071952666785e-125)"
      ]
     },
     "execution_count": 23,
     "metadata": {},
     "output_type": "execute_result"
    }
   ],
   "source": [
    "r, p = stats.pearsonr(mpg.cty, mpg.hwy)\n",
    "r, p"
   ]
  },
  {
   "cell_type": "markdown",
   "id": "6eb93b3e-5f1c-4bcb-81c6-296070357d68",
   "metadata": {},
   "source": [
    "The r-value of 0.96 indicates there is a strong, positive correlation between city and highway MPG."
   ]
  },
  {
   "cell_type": "code",
   "execution_count": 64,
   "id": "9f5bc706-ce37-4c02-885c-1e8f378e2ab8",
   "metadata": {},
   "outputs": [],
   "source": [
    "# you can assign default values to a parameters of a function\n",
    "def eval_result(p_value, a = 0.05):\n",
    "    \n",
    "    if p_value < a:\n",
    "\n",
    "        print('Awesome Sauce! Your result is significant!')\n",
    "        \n",
    "    else: \n",
    "\n",
    "        print('Your result was not significant!')\n",
    "\n",
    "# saved alot of development time with this function. "
   ]
  },
  {
   "cell_type": "code",
   "execution_count": 65,
   "id": "667c941b-cc2a-4dd8-ab06-a1beeda7ff34",
   "metadata": {
    "scrolled": true
   },
   "outputs": [
    {
     "name": "stdout",
     "output_type": "stream",
     "text": [
      "Awesome Sauce! Your result is significant!\n"
     ]
    }
   ],
   "source": [
    "eval_result(p)"
   ]
  },
  {
   "cell_type": "markdown",
   "id": "12a87dbf-74e0-4ffa-9819-5c92acc17ebd",
   "metadata": {},
   "source": [
    "# **------------------------------------------------------------------------------------------------------**"
   ]
  },
  {
   "cell_type": "markdown",
   "id": "9514647e",
   "metadata": {},
   "source": [
    "Let's look at a limitation of the Pearson's r test with a non-linear relationship."
   ]
  },
  {
   "cell_type": "code",
   "execution_count": 42,
   "id": "f975c4cc",
   "metadata": {},
   "outputs": [
    {
     "data": {
      "image/png": "[encoded data removed]",
      "text/plain": [
       "<Figure size 640x480 with 1 Axes>"
      ]
     },
     "metadata": {},
     "output_type": "display_data"
    }
   ],
   "source": [
    "x = list(range(-15, 15, 1))\n",
    "y = [i ** 3 for i in x]\n",
    "\n",
    "plt.scatter(x,y)\n",
    "plt.show()"
   ]
  },
  {
   "cell_type": "code",
   "execution_count": 44,
   "id": "1936f7a1-48c0-4f6f-a5d3-a6bb16c5ac25",
   "metadata": {},
   "outputs": [
    {
     "name": "stdout",
     "output_type": "stream",
     "text": [
      "Awesome Sauce! Your result is significant!\n"
     ]
    }
   ],
   "source": [
    "r_cubed, p_cubed = stats.pearsonr(x,y)\n",
    "eval_result(p_cubed)"
   ]
  },
  {
   "cell_type": "code",
   "execution_count": 46,
   "id": "309efa15-c42a-4132-b57c-18156b2f2922",
   "metadata": {},
   "outputs": [
    {
     "data": {
      "text/plain": [
       "0.915178278514944"
      ]
     },
     "execution_count": 46,
     "metadata": {},
     "output_type": "execute_result"
    }
   ],
   "source": [
    "r_cubed #it's telling us there is a linear and strong correlation, but we can obviously tell it is not!"
   ]
  },
  {
   "cell_type": "markdown",
   "id": "97f76f00",
   "metadata": {},
   "source": [
    "Let's look at another limitation with a linear relationship that doesn't do much."
   ]
  },
  {
   "cell_type": "code",
   "execution_count": 55,
   "id": "536ab3dc",
   "metadata": {
    "scrolled": true
   },
   "outputs": [
    {
     "data": {
      "image/png": "[encoded data removed]",
      "text/plain": [
       "<Figure size 640x480 with 1 Axes>"
      ]
     },
     "metadata": {},
     "output_type": "display_data"
    }
   ],
   "source": [
    "# This is an example of a very deceptive chart\n",
    "\n",
    "x_not = [1, 2, 3, 4, 5]\n",
    "y_not = [60, 60.1, 60.2, 60.3, 60.4]\n",
    "\n",
    "plt.scatter(x_not, y_not)\n",
    "plt.grid()\n",
    "plt.show()"
   ]
  },
  {
   "cell_type": "code",
   "execution_count": 54,
   "id": "f33d3a7d-30fa-4459-9020-234ad554eb12",
   "metadata": {},
   "outputs": [
    {
     "data": {
      "image/png": "[encoded data removed]",
      "text/plain": [
       "<Figure size 640x480 with 1 Axes>"
      ]
     },
     "metadata": {},
     "output_type": "display_data"
    }
   ],
   "source": [
    "# added y limit to verify\n",
    "\n",
    "x_not = [1, 2, 3, 4, 5]\n",
    "y_not = [60, 60.1, 60.2, 60.3, 60.4]\n",
    "\n",
    "plt.scatter(x_not, y_not)\n",
    "plt.ylim(0, 75)\n",
    "plt.grid()\n",
    "plt.show()"
   ]
  },
  {
   "cell_type": "code",
   "execution_count": 58,
   "id": "fa746460-e4eb-407e-834d-d4ad68cc5656",
   "metadata": {},
   "outputs": [
    {
     "name": "stdout",
     "output_type": "stream",
     "text": [
      "Awesome Sauce! Your result is significant!\n"
     ]
    }
   ],
   "source": [
    "r_not, p_not = stats.pearsonr(x_not, y_not)\n",
    "eval_result(p_not)"
   ]
  },
  {
   "cell_type": "code",
   "execution_count": 60,
   "id": "827c005b-a911-4edc-8617-756ad9f85a7c",
   "metadata": {},
   "outputs": [
    {
     "data": {
      "text/plain": [
       "0.9999999999999999"
      ]
     },
     "execution_count": 60,
     "metadata": {},
     "output_type": "execute_result"
    }
   ],
   "source": [
    "r_not # very tightly correlated"
   ]
  },
  {
   "cell_type": "markdown",
   "id": "2ffb5d8b-6e63-4c5d-ad27-3cb8d3b887d8",
   "metadata": {},
   "source": [
    "Bonus! You don;t need to try this today!, it's super useful for next week on."
   ]
  },
  {
   "cell_type": "code",
   "execution_count": 63,
   "id": "2adb4301-93ef-448d-91e3-6bc61ae7aa0b",
   "metadata": {},
   "outputs": [],
   "source": [
    "# This is a critical concept as we develop in data science\n",
    "\n",
    "# we want functions for different stats tests\n",
    "\n",
    "\n",
    "def find_correlation(f_one, f_two):\n",
    "\n",
    "    r, p = stats.pearsonr(f_one, f_two)\n",
    "\n",
    "    eval_result(p)"
   ]
  },
  {
   "cell_type": "code",
   "execution_count": 62,
   "id": "09e0ae7a-2564-433c-865c-e1b0fbd9ecd2",
   "metadata": {},
   "outputs": [
    {
     "name": "stdout",
     "output_type": "stream",
     "text": [
      "Awesome Sauce! Your result is significant!\n"
     ]
    }
   ],
   "source": [
    "find_correlation(x_not, y_not)"
   ]
  }
 ],
 "metadata": {
  "kernelspec": {
   "display_name": "Python 3 (ipykernel)",
   "language": "python",
   "name": "python3"
  },
  "language_info": {
   "codemirror_mode": {
    "name": "ipython",
    "version": 3
   },
   "file_extension": ".py",
   "mimetype": "text/x-python",
   "name": "python",
   "nbconvert_exporter": "python",
   "pygments_lexer": "ipython3",
   "version": "3.10.9"
  }
 },
 "nbformat": 4,
 "nbformat_minor": 5
}
