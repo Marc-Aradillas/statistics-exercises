{
 "cells": [
  {
   "cell_type": "markdown",
   "id": "1c38191e-47e2-44dd-9c7c-13f360537303",
   "metadata": {},
   "source": [
    "# **Exercises**"
   ]
  },
  {
   "cell_type": "markdown",
   "id": "0952c22c-4534-423f-88da-5ce6327fa207",
   "metadata": {},
   "source": [
    "1. **How likely is it that you roll doubles when rolling two dice?**"
   ]
  },
  {
   "cell_type": "code",
   "execution_count": null,
   "id": "57eb5b63-a394-4886-a70a-10a13c92d9b8",
   "metadata": {},
   "outputs": [],
   "source": []
  },
  {
   "cell_type": "markdown",
   "id": "e8cf66a2-cf4a-4d6f-bb52-9f66ba29e9a8",
   "metadata": {},
   "source": [
    "2. **If you flip 8 coins, what is the probability of getting exactly 3 heads? What is the probability of getting more than 3 heads?**"
   ]
  },
  {
   "cell_type": "code",
   "execution_count": null,
   "id": "67ee1339-e633-4167-99c0-ac3a7fc94c89",
   "metadata": {},
   "outputs": [],
   "source": []
  },
  {
   "cell_type": "markdown",
   "id": "0f161589-3e0c-47a2-8629-05bb4decd0c6",
   "metadata": {},
   "source": [
    "3. **There are approximitely 3 web development cohorts for every 1 data science cohort at Codeup. Assuming that Codeup randomly selects an alumni to put on a billboard, what are the odds that the two billboards I drive past both have data science students on them?**"
   ]
  },
  {
   "cell_type": "code",
   "execution_count": null,
   "id": "79d57098-cc0a-466f-a255-f3d6a5f283b0",
   "metadata": {},
   "outputs": [],
   "source": []
  },
  {
   "cell_type": "markdown",
   "id": "71ae76cd-e5dc-4673-9ef5-41cdb6e69182",
   "metadata": {},
   "source": [
    "4. **Codeup students buy, on average, 3 poptart packages with a standard deviation of 1.5 a day from the snack vending machine. If on monday the machine is restocked with 17 poptart packages, how likely is it that I will be able to buy some poptarts on Friday afternoon? (Remember, if you have mean and standard deviation, use the np.random.normal) You'll need to make a judgement call on how to handle some of your values**"
   ]
  },
  {
   "cell_type": "code",
   "execution_count": null,
   "id": "0c73a3d9-f002-4c59-8f87-44d2cb398098",
   "metadata": {},
   "outputs": [],
   "source": []
  },
  {
   "cell_type": "markdown",
   "id": "764a0035-bde0-43c9-9277-6225fec421a0",
   "metadata": {},
   "source": [
    "5. **Compare Heights**"
   ]
  },
  {
   "cell_type": "markdown",
   "id": "34d70e2b-2b36-4ae1-b0bf-d43cda5c48d5",
   "metadata": {},
   "source": [
    "    - Men have an average height of 178 cm and standard deviation of 8cm."
   ]
  },
  {
   "cell_type": "markdown",
   "id": "3356630b-3b6f-457e-a895-7ecc7bb16af0",
   "metadata": {},
   "source": [
    "- "
   ]
  },
  {
   "cell_type": "markdown",
   "id": "deaac7b6-2795-4ac3-8f80-e4a64308ba20",
   "metadata": {},
   "source": [
    "    - Women have a mean of 170, sd = 6cm."
   ]
  },
  {
   "cell_type": "markdown",
   "id": "c9adb6fb-25a8-4cb8-b80a-dd0e23212a0e",
   "metadata": {},
   "source": [
    "- "
   ]
  },
  {
   "cell_type": "markdown",
   "id": "fbd83966-2f7d-4d65-97db-2fd5d0698bd1",
   "metadata": {},
   "source": [
    "    - Since you have means and standard deviations, you can use np.random.normal to generate observations."
   ]
  },
  {
   "cell_type": "markdown",
   "id": "97ad1b41-2a58-43a0-8e39-c276a22c3a66",
   "metadata": {},
   "source": [
    "- "
   ]
  },
  {
   "cell_type": "markdown",
   "id": "ccdb931c-8748-497d-99b5-87971545f0e1",
   "metadata": {},
   "source": [
    "    - If a man and woman are chosen at random, what is the likelihood the woman is taller than the man?"
   ]
  },
  {
   "cell_type": "markdown",
   "id": "a695e591-e9d7-4731-8d95-eb0777252f9e",
   "metadata": {},
   "source": [
    "- "
   ]
  },
  {
   "cell_type": "markdown",
   "id": "cab9af3b-e314-4a1a-abbb-d471a1588b13",
   "metadata": {},
   "source": [
    "6. **When installing anaconda on a student's computer, there's a 1 in 250 chance that the download is corrupted and the installation fails. What are the odds that after having 50 students download anaconda, no one has an installation issue? 100 students?**"
   ]
  },
  {
   "cell_type": "code",
   "execution_count": null,
   "id": "730406d5-7811-4c69-af9e-147a542ef964",
   "metadata": {},
   "outputs": [],
   "source": []
  },
  {
   "cell_type": "markdown",
   "id": "15ca5237-beb1-47e1-a3ac-c76d9bbbdf3b",
   "metadata": {},
   "source": [
    "7. **What is the probability that we observe an installation issue within the first 150 students that download anaconda?**"
   ]
  },
  {
   "cell_type": "code",
   "execution_count": null,
   "id": "dbe8b385-a099-4062-a7c8-fd598c56dd11",
   "metadata": {},
   "outputs": [],
   "source": []
  },
  {
   "cell_type": "markdown",
   "id": "09d65609-bc80-4466-bb61-857f507371b5",
   "metadata": {},
   "source": [
    "8. **How likely is it that 450 students all download anaconda without an issue?**"
   ]
  },
  {
   "cell_type": "code",
   "execution_count": null,
   "id": "21c175fe-e10e-4593-a705-aa45c1e2d220",
   "metadata": {},
   "outputs": [],
   "source": []
  },
  {
   "cell_type": "markdown",
   "id": "a5ee8219-ab46-4320-b07f-dd3b309df078",
   "metadata": {},
   "source": [
    "9. **There's a 70% chance on any given day that there will be at least one food truck at Travis Park. However, you haven't seen a food truck there in 3 days. How unlikely is this?**"
   ]
  },
  {
   "cell_type": "code",
   "execution_count": null,
   "id": "36fc04b6-e301-40db-bf80-c7e6293240b3",
   "metadata": {},
   "outputs": [],
   "source": []
  },
  {
   "cell_type": "markdown",
   "id": "2314ecee-4886-4c89-972f-bf20e656eb44",
   "metadata": {},
   "source": [
    "10. **How likely is it that a food truck will show up sometime this week?**"
   ]
  },
  {
   "cell_type": "code",
   "execution_count": null,
   "id": "13a1ee81-9450-4539-9ad2-fbbd1a4083a3",
   "metadata": {},
   "outputs": [],
   "source": []
  },
  {
   "cell_type": "markdown",
   "id": "9013d149-03b0-48d1-b248-e7395dbbdc8b",
   "metadata": {},
   "source": [
    "11. **If 23 people are in the same room, what are the odds that two of them share a birthday? What if it's 20 people? 40?**"
   ]
  },
  {
   "cell_type": "code",
   "execution_count": null,
   "id": "5ad6697f-388a-40b8-985e-0170c1a8e5e3",
   "metadata": {},
   "outputs": [],
   "source": []
  },
  {
   "cell_type": "markdown",
   "id": "93dedfd3-3224-44af-b5a1-8121f1904a50",
   "metadata": {},
   "source": [
    "# **BONUS:**"
   ]
  },
  {
   "cell_type": "markdown",
   "id": "36b542b9-6e1d-417a-9de3-bf107744c62c",
   "metadata": {},
   "source": [
    "## **Mage Duel!**"
   ]
  },
  {
   "attachments": {},
   "cell_type": "markdown",
   "id": "180d4536-c0d9-4d9f-a99c-7cfb0920c46d",
   "metadata": {},
   "source": [
    "**Let's use what we've learned to play a mage duel!**\n",
    "\n",
    "**Imagine your wizard has 6d4 health points and you have spells that do 6d4 damage. \"6d4\" means rolling six 4-sided dice and summing the result.**\n",
    "\n",
    "**Your opposing mage has 4d6 health points and spells that do 4d6. \"4d6\" means rolling four six-sided dice and summing the result.**"
   ]
  },
  {
   "cell_type": "markdown",
   "id": "f5ebd284-0c1f-40b7-aed7-e1a4717d1f12",
   "metadata": {},
   "source": [
    "## **Exercises**"
   ]
  },
  {
   "cell_type": "markdown",
   "id": "f7ceb6d3-c0c4-43b9-bea2-f9a05da66f24",
   "metadata": {},
   "source": [
    "1. **Simulate mage duels to answer who is the more powerful mage?**"
   ]
  },
  {
   "cell_type": "markdown",
   "id": "4091488d-213e-430f-8626-09793734d134",
   "metadata": {},
   "source": [
    "    - Before running simulations, do you have a hypothesis of which mage will win? Do you have a hunch? Write it down. This is your first exercise.*"
   ]
  },
  {
   "cell_type": "markdown",
   "id": "939fc600-de96-47ce-bc6c-a2c736367c42",
   "metadata": {},
   "source": [
    "    - Simulate 10 mage duels. Is there a clear winner? Run that 10 duel simulation again. Was the answer similar?"
   ]
  },
  {
   "cell_type": "markdown",
   "id": "35e5bd0c-2939-40b6-9012-6a8be150f1f1",
   "metadata": {},
   "source": [
    "    - Do the results change much at 100 duels?"
   ]
  },
  {
   "cell_type": "markdown",
   "id": "5764b4a8-2d53-4d60-871d-c04638343af4",
   "metadata": {},
   "source": [
    "    - Now, simulate 10,000 mage duels. Is there a clear winner?"
   ]
  },
  {
   "cell_type": "code",
   "execution_count": null,
   "id": "c66640f2-7275-4e7f-bdd6-ea8118f7e89b",
   "metadata": {},
   "outputs": [],
   "source": []
  }
 ],
 "metadata": {
  "kernelspec": {
   "display_name": "Python 3 (ipykernel)",
   "language": "python",
   "name": "python3"
  },
  "language_info": {
   "codemirror_mode": {
    "name": "ipython",
    "version": 3
   },
   "file_extension": ".py",
   "mimetype": "text/x-python",
   "name": "python",
   "nbconvert_exporter": "python",
   "pygments_lexer": "ipython3",
   "version": "3.10.9"
  }
 },
 "nbformat": 4,
 "nbformat_minor": 5
}
