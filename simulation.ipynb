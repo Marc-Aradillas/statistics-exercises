{
 "cells": [
  {
   "cell_type": "markdown",
   "id": "1c38191e-47e2-44dd-9c7c-13f360537303",
   "metadata": {},
   "source": [
    "# **Exercises**"
   ]
  },
  {
   "cell_type": "code",
   "execution_count": 1,
   "id": "deda9678-7881-441b-abb8-9c76f8bbd863",
   "metadata": {},
   "outputs": [],
   "source": [
    "import numpy as np\n",
    "import pandas as pd\n",
    "\n",
    "import matplotlib.pyplot as plt"
   ]
  },
  {
   "cell_type": "code",
   "execution_count": 2,
   "id": "4d14bc30-38b4-4353-8600-c6aaf8114dd7",
   "metadata": {},
   "outputs": [],
   "source": [
    "rng = np.random.default_rng(seed = 42) # create a rand num generator"
   ]
  },
  {
   "cell_type": "markdown",
   "id": "0952c22c-4534-423f-88da-5ce6327fa207",
   "metadata": {},
   "source": [
    "1. **How likely is it that you roll doubles when rolling two dice?**\n",
    "\n",
    "- There is a 17.12% chance of rolling a double."
   ]
  },
  {
   "cell_type": "code",
   "execution_count": 3,
   "id": "57eb5b63-a394-4886-a70a-10a13c92d9b8",
   "metadata": {},
   "outputs": [
    {
     "data": {
      "text/plain": [
       "array([[1, 5],\n",
       "       [4, 3],\n",
       "       [3, 6],\n",
       "       ...,\n",
       "       [5, 1],\n",
       "       [1, 3],\n",
       "       [3, 3]])"
      ]
     },
     "execution_count": 3,
     "metadata": {},
     "output_type": "execute_result"
    }
   ],
   "source": [
    "doubles = rng.choice([1, 2, 3, 4, 5, 6], (10_000, 2))\n",
    "doubles"
   ]
  },
  {
   "cell_type": "code",
   "execution_count": 4,
   "id": "a692ee71-00b6-4b3d-8e14-9f749f5ffa1a",
   "metadata": {},
   "outputs": [
    {
     "data": {
      "text/plain": [
       "array([1, 4, 3, ..., 5, 1, 3])"
      ]
     },
     "execution_count": 4,
     "metadata": {},
     "output_type": "execute_result"
    }
   ],
   "source": [
    "doubles[:, 0] # isolate column one by index slicing; returns 1st column"
   ]
  },
  {
   "cell_type": "code",
   "execution_count": 5,
   "id": "91972eb1-b09a-4c4b-8f83-330ec7ec63d6",
   "metadata": {},
   "outputs": [
    {
     "data": {
      "text/plain": [
       "array([5, 3, 6, ..., 1, 3, 3])"
      ]
     },
     "execution_count": 5,
     "metadata": {},
     "output_type": "execute_result"
    }
   ],
   "source": [
    "doubles[:, 1] # could have used axis sum"
   ]
  },
  {
   "cell_type": "code",
   "execution_count": 6,
   "id": "1a533d28-fe24-453b-863c-d3ab2ca384bc",
   "metadata": {},
   "outputs": [
    {
     "data": {
      "text/plain": [
       "1712"
      ]
     },
     "execution_count": 6,
     "metadata": {},
     "output_type": "execute_result"
    }
   ],
   "source": [
    "(doubles[:, 1] == doubles[:, 0]).sum() # used .sum() method to returns all doubles"
   ]
  },
  {
   "cell_type": "code",
   "execution_count": 7,
   "id": "36a4a637-1a40-4484-885f-35e7bc0770b0",
   "metadata": {},
   "outputs": [
    {
     "data": {
      "text/plain": [
       "1712"
      ]
     },
     "execution_count": 7,
     "metadata": {},
     "output_type": "execute_result"
    }
   ],
   "source": [
    "rolled_double = (doubles[:, 1] == doubles[:, 0]).sum() # assigned variable to all doubles\n",
    "rolled_double"
   ]
  },
  {
   "cell_type": "code",
   "execution_count": 8,
   "id": "2c6d8da4-51ea-40db-b3ee-1f36c4ab425c",
   "metadata": {},
   "outputs": [
    {
     "data": {
      "text/plain": [
       "0.1712"
      ]
     },
     "execution_count": 8,
     "metadata": {},
     "output_type": "execute_result"
    }
   ],
   "source": [
    "rolled_double/len(doubles)"
   ]
  },
  {
   "cell_type": "markdown",
   "id": "e8cf66a2-cf4a-4d6f-bb52-9f66ba29e9a8",
   "metadata": {},
   "source": [
    "2. **If you flip 8 coins, what is the probability of getting exactly 3 heads? What is the probability of getting more than 3 heads?**\n",
    "\n",
    "- 22.01% probability of flipping 8 coins and getting exactly 3 heads\n",
    "- 63.98% probability of flipping 8 coins and getting more than 3 heads"
   ]
  },
  {
   "cell_type": "code",
   "execution_count": 9,
   "id": "67ee1339-e633-4167-99c0-ac3a7fc94c89",
   "metadata": {},
   "outputs": [
    {
     "data": {
      "text/plain": [
       "array([[0, 1, 0, 1, 1, 0, 0, 0],\n",
       "       [1, 0, 0, 0, 0, 0, 0, 1],\n",
       "       [0, 0, 1, 0, 0, 1, 0, 1],\n",
       "       [0, 0, 0, 0, 0, 1, 1, 0],\n",
       "       [1, 1, 1, 1, 0, 0, 1, 1]])"
      ]
     },
     "execution_count": 9,
     "metadata": {},
     "output_type": "execute_result"
    }
   ],
   "source": [
    "flips = rng.choice([0, 1], (10_000, 8))\n",
    "flips[:5]"
   ]
  },
  {
   "cell_type": "code",
   "execution_count": 10,
   "id": "ba5a46ec-5067-450a-bda4-737944b627cd",
   "metadata": {},
   "outputs": [
    {
     "data": {
      "text/plain": [
       "array([3, 2, 3, 2, 6])"
      ]
     },
     "execution_count": 10,
     "metadata": {},
     "output_type": "execute_result"
    }
   ],
   "source": [
    "flips_sum = flips.sum(axis = 1)\n",
    "flips_sum[:5]"
   ]
  },
  {
   "cell_type": "code",
   "execution_count": 11,
   "id": "25348e46-53a9-4aa6-895d-bbd911f85591",
   "metadata": {},
   "outputs": [
    {
     "data": {
      "text/plain": [
       "array([ True, False,  True, ..., False, False, False])"
      ]
     },
     "execution_count": 11,
     "metadata": {},
     "output_type": "execute_result"
    }
   ],
   "source": [
    "flips_sum == 3"
   ]
  },
  {
   "cell_type": "code",
   "execution_count": 12,
   "id": "5ed4e1c5-4da2-4422-87f1-039d071dee42",
   "metadata": {},
   "outputs": [
    {
     "data": {
      "text/plain": [
       "2201"
      ]
     },
     "execution_count": 12,
     "metadata": {},
     "output_type": "execute_result"
    }
   ],
   "source": [
    "(flips_sum == 3).sum()"
   ]
  },
  {
   "cell_type": "code",
   "execution_count": 13,
   "id": "7c2b1bd2-fb0e-4838-ad88-70e4ff8af398",
   "metadata": {},
   "outputs": [
    {
     "data": {
      "text/plain": [
       "0.2201"
      ]
     },
     "execution_count": 13,
     "metadata": {},
     "output_type": "execute_result"
    }
   ],
   "source": [
    "exactly_threes = (flips_sum == 3).sum()\n",
    "exactly_threes / len(flips_sum)"
   ]
  },
  {
   "cell_type": "code",
   "execution_count": 14,
   "id": "6bfe1e56-c6b5-4c41-9020-9fc3fcc6c489",
   "metadata": {},
   "outputs": [
    {
     "data": {
      "text/plain": [
       "0.6398"
      ]
     },
     "execution_count": 14,
     "metadata": {},
     "output_type": "execute_result"
    }
   ],
   "source": [
    "more_than_three = (flips_sum > 3).sum()\n",
    "more_than_three / len(flips_sum)"
   ]
  },
  {
   "cell_type": "markdown",
   "id": "0f161589-3e0c-47a2-8629-05bb4decd0c6",
   "metadata": {},
   "source": [
    "3. **There are approximitely 3 web development cohorts for every 1 data science cohort at Codeup. Assuming that Codeup randomly selects an alumni to put on a billboard, what are the odds that the two billboards I drive past both have data science students on them?**\n",
    "\n",
    " - 5.93% probability of both billdboard"
   ]
  },
  {
   "cell_type": "code",
   "execution_count": 15,
   "id": "79d57098-cc0a-466f-a255-f3d6a5f283b0",
   "metadata": {},
   "outputs": [
    {
     "data": {
      "text/plain": [
       "array([[3, 4],\n",
       "       [3, 2],\n",
       "       [1, 3],\n",
       "       ...,\n",
       "       [4, 1],\n",
       "       [2, 2],\n",
       "       [1, 1]])"
      ]
     },
     "execution_count": 15,
     "metadata": {},
     "output_type": "execute_result"
    }
   ],
   "source": [
    "billboard_choices = rng.choice([1, 2, 3, 4], (10_000, 2))\n",
    "billboard_choices"
   ]
  },
  {
   "cell_type": "code",
   "execution_count": 16,
   "id": "1281e848-054c-4893-aca7-4ead197be7c8",
   "metadata": {},
   "outputs": [
    {
     "data": {
      "text/plain": [
       "0.0593"
      ]
     },
     "execution_count": 16,
     "metadata": {},
     "output_type": "execute_result"
    }
   ],
   "source": [
    "ds_cohort = ((billboard_choices[:, 0] + billboard_choices[:, 1]) == 2).sum()\n",
    "ds_cohort / len(billboard_choices)"
   ]
  },
  {
   "cell_type": "markdown",
   "id": "71ae76cd-e5dc-4673-9ef5-41cdb6e69182",
   "metadata": {},
   "source": [
    "4. **Codeup students buy, on average, 3 poptart packages with a standard deviation of 1.5 a day from the snack vending machine. If on monday the machine is restocked with 17 poptart packages, how likely is it that I will be able to buy some poptarts on Friday afternoon? (Remember, if you have mean and standard deviation, use the np.random.normal) You'll need to make a judgement call on how to handle some of your values**\n",
    "\n",
    "- 72.42% probabililty there will be a chance of purchasing poptarts"
   ]
  },
  {
   "cell_type": "code",
   "execution_count": 17,
   "id": "5030e273-ba03-476b-bbb3-f48a52eac056",
   "metadata": {},
   "outputs": [
    {
     "data": {
      "text/plain": [
       "array([18.31330061, 19.10886171, 11.99871834, ..., 18.30014292,\n",
       "       12.25388303, 15.28656197])"
      ]
     },
     "execution_count": 17,
     "metadata": {},
     "output_type": "execute_result"
    }
   ],
   "source": [
    "cs = rng.normal(3, 1.5, (10_000, 5))\n",
    "cs_eaten = cs.sum(axis = 1)\n",
    "cs_eaten"
   ]
  },
  {
   "cell_type": "code",
   "execution_count": 18,
   "id": "9e70cf2a-89b0-4978-a734-de719a3758ac",
   "metadata": {},
   "outputs": [
    {
     "data": {
      "text/plain": [
       "0.7316"
      ]
     },
     "execution_count": 18,
     "metadata": {},
     "output_type": "execute_result"
    }
   ],
   "source": [
    "poptarts_likely = (cs_eaten < 17).sum()\n",
    "poptarts_likely/ len(cs_eaten)"
   ]
  },
  {
   "cell_type": "code",
   "execution_count": null,
   "id": "55989968-9473-46ce-bb26-33349dd23f6a",
   "metadata": {},
   "outputs": [],
   "source": []
  },
  {
   "cell_type": "code",
   "execution_count": null,
   "id": "4eeb1303-7cde-4b75-9b18-803dd522e9c4",
   "metadata": {},
   "outputs": [],
   "source": []
  },
  {
   "cell_type": "markdown",
   "id": "764a0035-bde0-43c9-9277-6225fec421a0",
   "metadata": {},
   "source": [
    "5. **Compare Heights**"
   ]
  },
  {
   "cell_type": "markdown",
   "id": "34d70e2b-2b36-4ae1-b0bf-d43cda5c48d5",
   "metadata": {},
   "source": [
    "    - Men have an average height of 178 cm and standard deviation of 8cm."
   ]
  },
  {
   "cell_type": "code",
   "execution_count": 19,
   "id": "a18f0d6a-6b29-4652-bc9c-fa94380e57b0",
   "metadata": {},
   "outputs": [
    {
     "data": {
      "text/plain": [
       "array([169.03543562, 194.977672  , 185.70411888, ..., 164.32626887,\n",
       "       183.54573869, 175.93092674])"
      ]
     },
     "execution_count": 19,
     "metadata": {},
     "output_type": "execute_result"
    }
   ],
   "source": [
    "men = rng.normal(178, 8, 10_000)\n",
    "men"
   ]
  },
  {
   "cell_type": "markdown",
   "id": "deaac7b6-2795-4ac3-8f80-e4a64308ba20",
   "metadata": {},
   "source": [
    "    - Women have a mean of 170, sd = 6cm."
   ]
  },
  {
   "cell_type": "code",
   "execution_count": 20,
   "id": "dab905a1-1160-4947-abb7-ded633d76e05",
   "metadata": {},
   "outputs": [
    {
     "data": {
      "text/plain": [
       "array([166.52810302, 165.63609514, 157.33937377, ..., 175.64615129,\n",
       "       162.20300757, 172.96271607])"
      ]
     },
     "execution_count": 20,
     "metadata": {},
     "output_type": "execute_result"
    }
   ],
   "source": [
    "women = rng.normal(170, 6, 10_000)\n",
    "women"
   ]
  },
  {
   "cell_type": "markdown",
   "id": "fbd83966-2f7d-4d65-97db-2fd5d0698bd1",
   "metadata": {},
   "source": [
    "    - Since you have means and standard deviations, you can use np.random.normal to generate observations."
   ]
  },
  {
   "cell_type": "markdown",
   "id": "ccdb931c-8748-497d-99b5-87971545f0e1",
   "metadata": {},
   "source": [
    "    - If a man and woman are chosen at random, what is the likelihood the woman is taller than the man?"
   ]
  },
  {
   "cell_type": "code",
   "execution_count": 21,
   "id": "8f2dca97-f390-4e48-a0eb-6ae87bc367d8",
   "metadata": {},
   "outputs": [
    {
     "data": {
      "text/plain": [
       "array([False, False, False, ...,  True, False, False])"
      ]
     },
     "execution_count": 21,
     "metadata": {},
     "output_type": "execute_result"
    }
   ],
   "source": [
    "women > men"
   ]
  },
  {
   "cell_type": "code",
   "execution_count": 22,
   "id": "6005130d-4715-45dc-96a3-a2c0ca6b7862",
   "metadata": {},
   "outputs": [
    {
     "data": {
      "text/plain": [
       "0.21"
      ]
     },
     "execution_count": 22,
     "metadata": {},
     "output_type": "execute_result"
    }
   ],
   "source": [
    "women_taller = (women > men).sum()\n",
    "women_taller / len(women)"
   ]
  },
  {
   "cell_type": "markdown",
   "id": "cab9af3b-e314-4a1a-abbb-d471a1588b13",
   "metadata": {},
   "source": [
    "6. **When installing anaconda on a student's computer, there's a 1 in 250 chance that the download is corrupted and the installation fails. What are the odds that after having 50 students download anaconda, no one has an installation issue? 100 students?**\n",
    "\n",
    "- 50 students w/o corruption = 82.26%\n",
    "- 100 sudents w/o corruption = 66.76%"
   ]
  },
  {
   "cell_type": "code",
   "execution_count": 23,
   "id": "5dca93bb-be04-4eaf-8206-be3df05ddb67",
   "metadata": {},
   "outputs": [
    {
     "data": {
      "text/plain": [
       "0.004"
      ]
     },
     "execution_count": 23,
     "metadata": {},
     "output_type": "execute_result"
    }
   ],
   "source": [
    "corruption_chance = 1/250\n",
    "corruption_chance"
   ]
  },
  {
   "cell_type": "code",
   "execution_count": 24,
   "id": "e3595845-2e7d-46bd-b7fd-1dcd85e61e84",
   "metadata": {},
   "outputs": [],
   "source": [
    " fifty_failed = (rng.random((10_000, 50)) > corruption_chance).prod(axis=1).mean()"
   ]
  },
  {
   "cell_type": "code",
   "execution_count": 25,
   "id": "885cc046-a757-4455-ada7-9c137ff1a10a",
   "metadata": {},
   "outputs": [
    {
     "data": {
      "text/plain": [
       "0.8183"
      ]
     },
     "execution_count": 25,
     "metadata": {},
     "output_type": "execute_result"
    }
   ],
   "source": [
    "fifty_failed"
   ]
  },
  {
   "cell_type": "code",
   "execution_count": 26,
   "id": "6cdc45e3-b60e-477c-92b7-f8aae63a05de",
   "metadata": {},
   "outputs": [],
   "source": [
    " one_hundred_failed = (rng.random((10_000, 100)) > corruption_chance).prod(axis=1).mean()"
   ]
  },
  {
   "cell_type": "code",
   "execution_count": 27,
   "id": "3be5135f-6f23-406f-9788-089f45f6fd4a",
   "metadata": {},
   "outputs": [
    {
     "data": {
      "text/plain": [
       "0.6736"
      ]
     },
     "execution_count": 27,
     "metadata": {},
     "output_type": "execute_result"
    }
   ],
   "source": [
    "one_hundred_failed"
   ]
  },
  {
   "cell_type": "markdown",
   "id": "15ca5237-beb1-47e1-a3ac-c76d9bbbdf3b",
   "metadata": {},
   "source": [
    "- **What is the probability that we observe an installation issue within the first 150 students that download anaconda?**\n",
    "\n",
    "- 45.47% chance of failure"
   ]
  },
  {
   "cell_type": "code",
   "execution_count": 28,
   "id": "dbe8b385-a099-4062-a7c8-fd598c56dd11",
   "metadata": {},
   "outputs": [],
   "source": [
    "# subtract the result from 1 to get the proportion of rows with a successful installation (no corruption)\n",
    "one_hundred_fifty = 1 - (rng.random((10_000, 150)) > corruption_chance).prod(axis=1).mean()"
   ]
  },
  {
   "cell_type": "code",
   "execution_count": 29,
   "id": "5de1f2d4-038f-4492-9eba-3eec884f47a6",
   "metadata": {},
   "outputs": [
    {
     "data": {
      "text/plain": [
       "0.45609999999999995"
      ]
     },
     "execution_count": 29,
     "metadata": {},
     "output_type": "execute_result"
    }
   ],
   "source": [
    "one_hundred_fifty"
   ]
  },
  {
   "cell_type": "markdown",
   "id": "09d65609-bc80-4466-bb61-857f507371b5",
   "metadata": {},
   "source": [
    "- **How likely is it that 450 students all download anaconda without an issue?**\n",
    "\n",
    "- 16.64% chance without corruption"
   ]
  },
  {
   "cell_type": "code",
   "execution_count": 30,
   "id": "21c175fe-e10e-4593-a705-aa45c1e2d220",
   "metadata": {},
   "outputs": [],
   "source": [
    "four_hundred_fifty = (rng.random((10_000, 450)) > corruption_chance).prod(axis=1).mean()"
   ]
  },
  {
   "cell_type": "code",
   "execution_count": 31,
   "id": "d2810248-d49e-4369-b5a7-0a91c6a810e3",
   "metadata": {},
   "outputs": [
    {
     "data": {
      "text/plain": [
       "0.1617"
      ]
     },
     "execution_count": 31,
     "metadata": {},
     "output_type": "execute_result"
    }
   ],
   "source": [
    "four_hundred_fifty"
   ]
  },
  {
   "cell_type": "markdown",
   "id": "a5ee8219-ab46-4320-b07f-dd3b309df078",
   "metadata": {},
   "source": [
    "7. **There's a 70% chance on any given day that there will be at least one food truck at Travis Park. However, you haven't seen a food truck there in 3 days. How unlikely is this?**\n",
    "\n",
    "- 2.65% chance of no truck appearing is unlikely"
   ]
  },
  {
   "cell_type": "code",
   "execution_count": 32,
   "id": "f85223d7-7557-42aa-9216-6eb68530ce12",
   "metadata": {},
   "outputs": [
    {
     "data": {
      "text/plain": [
       "0.0274"
      ]
     },
     "execution_count": 32,
     "metadata": {},
     "output_type": "execute_result"
    }
   ],
   "source": [
    "three_days = (rng.random((10_000, 3)) > .7).prod(axis=1).mean()\n",
    "three_days"
   ]
  },
  {
   "cell_type": "markdown",
   "id": "2314ecee-4886-4c89-972f-bf20e656eb44",
   "metadata": {},
   "source": [
    "- **How likely is it that a food truck will show up sometime this week?**\n",
    "- There is a 8.37% chance of a food truck will appear sometime this week."
   ]
  },
  {
   "cell_type": "code",
   "execution_count": 33,
   "id": "9ca8375e-94d5-4bf1-b55e-de4b95c5b936",
   "metadata": {},
   "outputs": [
    {
     "data": {
      "text/plain": [
       "0.0828"
      ]
     },
     "execution_count": 33,
     "metadata": {},
     "output_type": "execute_result"
    }
   ],
   "source": [
    "week = (rng.random((10_000, 7)) <= .7).prod(axis=1).mean()\n",
    "week"
   ]
  },
  {
   "cell_type": "markdown",
   "id": "9013d149-03b0-48d1-b248-e7395dbbdc8b",
   "metadata": {},
   "source": [
    "8. **If 23 people are in the same room, what are the odds that two of them share a birthday? What if it's 20 people? 40?**\n",
    "\n",
    "    - 51.09% odds that two of them share birthday\n",
    "    - 40.85% odds that two of them share birthday\n",
    "    - 89.35% odds that two of them share birthday"
   ]
  },
  {
   "cell_type": "code",
   "execution_count": 34,
   "id": "5ad6697f-388a-40b8-985e-0170c1a8e5e3",
   "metadata": {},
   "outputs": [
    {
     "data": {
      "text/html": [
       "<div>\n",
       "<style scoped>\n",
       "    .dataframe tbody tr th:only-of-type {\n",
       "        vertical-align: middle;\n",
       "    }\n",
       "\n",
       "    .dataframe tbody tr th {\n",
       "        vertical-align: top;\n",
       "    }\n",
       "\n",
       "    .dataframe thead th {\n",
       "        text-align: right;\n",
       "    }\n",
       "</style>\n",
       "<table border=\"1\" class=\"dataframe\">\n",
       "  <thead>\n",
       "    <tr style=\"text-align: right;\">\n",
       "      <th></th>\n",
       "      <th>0</th>\n",
       "      <th>1</th>\n",
       "      <th>2</th>\n",
       "      <th>3</th>\n",
       "      <th>4</th>\n",
       "      <th>5</th>\n",
       "      <th>6</th>\n",
       "      <th>7</th>\n",
       "      <th>8</th>\n",
       "      <th>9</th>\n",
       "      <th>...</th>\n",
       "      <th>13</th>\n",
       "      <th>14</th>\n",
       "      <th>15</th>\n",
       "      <th>16</th>\n",
       "      <th>17</th>\n",
       "      <th>18</th>\n",
       "      <th>19</th>\n",
       "      <th>20</th>\n",
       "      <th>21</th>\n",
       "      <th>22</th>\n",
       "    </tr>\n",
       "  </thead>\n",
       "  <tbody>\n",
       "    <tr>\n",
       "      <th>0</th>\n",
       "      <td>184</td>\n",
       "      <td>336</td>\n",
       "      <td>152</td>\n",
       "      <td>233</td>\n",
       "      <td>20</td>\n",
       "      <td>156</td>\n",
       "      <td>126</td>\n",
       "      <td>125</td>\n",
       "      <td>192</td>\n",
       "      <td>332</td>\n",
       "      <td>...</td>\n",
       "      <td>86</td>\n",
       "      <td>121</td>\n",
       "      <td>16</td>\n",
       "      <td>255</td>\n",
       "      <td>197</td>\n",
       "      <td>358</td>\n",
       "      <td>96</td>\n",
       "      <td>117</td>\n",
       "      <td>126</td>\n",
       "      <td>257</td>\n",
       "    </tr>\n",
       "    <tr>\n",
       "      <th>1</th>\n",
       "      <td>85</td>\n",
       "      <td>286</td>\n",
       "      <td>82</td>\n",
       "      <td>266</td>\n",
       "      <td>312</td>\n",
       "      <td>132</td>\n",
       "      <td>211</td>\n",
       "      <td>39</td>\n",
       "      <td>32</td>\n",
       "      <td>18</td>\n",
       "      <td>...</td>\n",
       "      <td>297</td>\n",
       "      <td>52</td>\n",
       "      <td>295</td>\n",
       "      <td>203</td>\n",
       "      <td>315</td>\n",
       "      <td>357</td>\n",
       "      <td>290</td>\n",
       "      <td>210</td>\n",
       "      <td>321</td>\n",
       "      <td>48</td>\n",
       "    </tr>\n",
       "    <tr>\n",
       "      <th>2</th>\n",
       "      <td>24</td>\n",
       "      <td>154</td>\n",
       "      <td>205</td>\n",
       "      <td>154</td>\n",
       "      <td>16</td>\n",
       "      <td>76</td>\n",
       "      <td>51</td>\n",
       "      <td>288</td>\n",
       "      <td>232</td>\n",
       "      <td>282</td>\n",
       "      <td>...</td>\n",
       "      <td>296</td>\n",
       "      <td>266</td>\n",
       "      <td>237</td>\n",
       "      <td>69</td>\n",
       "      <td>2</td>\n",
       "      <td>243</td>\n",
       "      <td>41</td>\n",
       "      <td>9</td>\n",
       "      <td>171</td>\n",
       "      <td>142</td>\n",
       "    </tr>\n",
       "    <tr>\n",
       "      <th>3</th>\n",
       "      <td>161</td>\n",
       "      <td>142</td>\n",
       "      <td>170</td>\n",
       "      <td>149</td>\n",
       "      <td>65</td>\n",
       "      <td>35</td>\n",
       "      <td>257</td>\n",
       "      <td>76</td>\n",
       "      <td>265</td>\n",
       "      <td>102</td>\n",
       "      <td>...</td>\n",
       "      <td>20</td>\n",
       "      <td>276</td>\n",
       "      <td>118</td>\n",
       "      <td>141</td>\n",
       "      <td>209</td>\n",
       "      <td>331</td>\n",
       "      <td>142</td>\n",
       "      <td>130</td>\n",
       "      <td>165</td>\n",
       "      <td>62</td>\n",
       "    </tr>\n",
       "    <tr>\n",
       "      <th>4</th>\n",
       "      <td>5</td>\n",
       "      <td>256</td>\n",
       "      <td>50</td>\n",
       "      <td>147</td>\n",
       "      <td>332</td>\n",
       "      <td>229</td>\n",
       "      <td>232</td>\n",
       "      <td>252</td>\n",
       "      <td>14</td>\n",
       "      <td>79</td>\n",
       "      <td>...</td>\n",
       "      <td>112</td>\n",
       "      <td>289</td>\n",
       "      <td>5</td>\n",
       "      <td>164</td>\n",
       "      <td>243</td>\n",
       "      <td>45</td>\n",
       "      <td>335</td>\n",
       "      <td>40</td>\n",
       "      <td>97</td>\n",
       "      <td>134</td>\n",
       "    </tr>\n",
       "  </tbody>\n",
       "</table>\n",
       "<p>5 rows × 23 columns</p>\n",
       "</div>"
      ],
      "text/plain": [
       "    0    1    2    3    4    5    6    7    8    9   ...   13   14   15   16  \\\n",
       "0  184  336  152  233   20  156  126  125  192  332  ...   86  121   16  255   \n",
       "1   85  286   82  266  312  132  211   39   32   18  ...  297   52  295  203   \n",
       "2   24  154  205  154   16   76   51  288  232  282  ...  296  266  237   69   \n",
       "3  161  142  170  149   65   35  257   76  265  102  ...   20  276  118  141   \n",
       "4    5  256   50  147  332  229  232  252   14   79  ...  112  289    5  164   \n",
       "\n",
       "    17   18   19   20   21   22  \n",
       "0  197  358   96  117  126  257  \n",
       "1  315  357  290  210  321   48  \n",
       "2    2  243   41    9  171  142  \n",
       "3  209  331  142  130  165   62  \n",
       "4  243   45  335   40   97  134  \n",
       "\n",
       "[5 rows x 23 columns]"
      ]
     },
     "execution_count": 34,
     "metadata": {},
     "output_type": "execute_result"
    }
   ],
   "source": [
    "bday_23 = rng.integers(1, 366, (10_000, 23))\n",
    "bday_23 = pd.DataFrame(bday_23)\n",
    "bday_23.head()"
   ]
  },
  {
   "cell_type": "code",
   "execution_count": 35,
   "id": "51392ee0-d5b5-4006-b649-4ea622089d2e",
   "metadata": {},
   "outputs": [],
   "source": [
    "share_bday_23 = (bday_23.nunique(axis=1) < 23).sum()"
   ]
  },
  {
   "cell_type": "code",
   "execution_count": 36,
   "id": "e89f1da3-a663-4d80-acd6-12fb01b30c5d",
   "metadata": {
    "scrolled": true
   },
   "outputs": [
    {
     "data": {
      "text/plain": [
       "0.5102"
      ]
     },
     "execution_count": 36,
     "metadata": {},
     "output_type": "execute_result"
    }
   ],
   "source": [
    "share_bday_23 / len(bday_23)"
   ]
  },
  {
   "cell_type": "code",
   "execution_count": 37,
   "id": "593ffa35-ea67-49be-91c3-fd3c9b483f80",
   "metadata": {},
   "outputs": [
    {
     "data": {
      "text/html": [
       "<div>\n",
       "<style scoped>\n",
       "    .dataframe tbody tr th:only-of-type {\n",
       "        vertical-align: middle;\n",
       "    }\n",
       "\n",
       "    .dataframe tbody tr th {\n",
       "        vertical-align: top;\n",
       "    }\n",
       "\n",
       "    .dataframe thead th {\n",
       "        text-align: right;\n",
       "    }\n",
       "</style>\n",
       "<table border=\"1\" class=\"dataframe\">\n",
       "  <thead>\n",
       "    <tr style=\"text-align: right;\">\n",
       "      <th></th>\n",
       "      <th>0</th>\n",
       "      <th>1</th>\n",
       "      <th>2</th>\n",
       "      <th>3</th>\n",
       "      <th>4</th>\n",
       "      <th>5</th>\n",
       "      <th>6</th>\n",
       "      <th>7</th>\n",
       "      <th>8</th>\n",
       "      <th>9</th>\n",
       "      <th>10</th>\n",
       "      <th>11</th>\n",
       "      <th>12</th>\n",
       "      <th>13</th>\n",
       "      <th>14</th>\n",
       "      <th>15</th>\n",
       "      <th>16</th>\n",
       "      <th>17</th>\n",
       "      <th>18</th>\n",
       "      <th>19</th>\n",
       "    </tr>\n",
       "  </thead>\n",
       "  <tbody>\n",
       "    <tr>\n",
       "      <th>0</th>\n",
       "      <td>64</td>\n",
       "      <td>252</td>\n",
       "      <td>122</td>\n",
       "      <td>46</td>\n",
       "      <td>70</td>\n",
       "      <td>60</td>\n",
       "      <td>143</td>\n",
       "      <td>223</td>\n",
       "      <td>41</td>\n",
       "      <td>272</td>\n",
       "      <td>217</td>\n",
       "      <td>39</td>\n",
       "      <td>142</td>\n",
       "      <td>227</td>\n",
       "      <td>203</td>\n",
       "      <td>8</td>\n",
       "      <td>11</td>\n",
       "      <td>204</td>\n",
       "      <td>232</td>\n",
       "      <td>313</td>\n",
       "    </tr>\n",
       "    <tr>\n",
       "      <th>1</th>\n",
       "      <td>318</td>\n",
       "      <td>62</td>\n",
       "      <td>290</td>\n",
       "      <td>189</td>\n",
       "      <td>285</td>\n",
       "      <td>310</td>\n",
       "      <td>26</td>\n",
       "      <td>311</td>\n",
       "      <td>307</td>\n",
       "      <td>197</td>\n",
       "      <td>331</td>\n",
       "      <td>225</td>\n",
       "      <td>281</td>\n",
       "      <td>122</td>\n",
       "      <td>115</td>\n",
       "      <td>179</td>\n",
       "      <td>141</td>\n",
       "      <td>250</td>\n",
       "      <td>128</td>\n",
       "      <td>107</td>\n",
       "    </tr>\n",
       "    <tr>\n",
       "      <th>2</th>\n",
       "      <td>161</td>\n",
       "      <td>288</td>\n",
       "      <td>177</td>\n",
       "      <td>90</td>\n",
       "      <td>128</td>\n",
       "      <td>319</td>\n",
       "      <td>267</td>\n",
       "      <td>133</td>\n",
       "      <td>238</td>\n",
       "      <td>36</td>\n",
       "      <td>314</td>\n",
       "      <td>97</td>\n",
       "      <td>294</td>\n",
       "      <td>109</td>\n",
       "      <td>290</td>\n",
       "      <td>106</td>\n",
       "      <td>268</td>\n",
       "      <td>36</td>\n",
       "      <td>54</td>\n",
       "      <td>19</td>\n",
       "    </tr>\n",
       "    <tr>\n",
       "      <th>3</th>\n",
       "      <td>290</td>\n",
       "      <td>75</td>\n",
       "      <td>149</td>\n",
       "      <td>334</td>\n",
       "      <td>184</td>\n",
       "      <td>277</td>\n",
       "      <td>229</td>\n",
       "      <td>39</td>\n",
       "      <td>97</td>\n",
       "      <td>178</td>\n",
       "      <td>233</td>\n",
       "      <td>51</td>\n",
       "      <td>313</td>\n",
       "      <td>130</td>\n",
       "      <td>59</td>\n",
       "      <td>195</td>\n",
       "      <td>157</td>\n",
       "      <td>259</td>\n",
       "      <td>130</td>\n",
       "      <td>52</td>\n",
       "    </tr>\n",
       "    <tr>\n",
       "      <th>4</th>\n",
       "      <td>335</td>\n",
       "      <td>360</td>\n",
       "      <td>144</td>\n",
       "      <td>237</td>\n",
       "      <td>283</td>\n",
       "      <td>110</td>\n",
       "      <td>131</td>\n",
       "      <td>100</td>\n",
       "      <td>199</td>\n",
       "      <td>101</td>\n",
       "      <td>118</td>\n",
       "      <td>286</td>\n",
       "      <td>220</td>\n",
       "      <td>104</td>\n",
       "      <td>225</td>\n",
       "      <td>365</td>\n",
       "      <td>238</td>\n",
       "      <td>79</td>\n",
       "      <td>335</td>\n",
       "      <td>76</td>\n",
       "    </tr>\n",
       "  </tbody>\n",
       "</table>\n",
       "</div>"
      ],
      "text/plain": [
       "    0    1    2    3    4    5    6    7    8    9    10   11   12   13   14  \\\n",
       "0   64  252  122   46   70   60  143  223   41  272  217   39  142  227  203   \n",
       "1  318   62  290  189  285  310   26  311  307  197  331  225  281  122  115   \n",
       "2  161  288  177   90  128  319  267  133  238   36  314   97  294  109  290   \n",
       "3  290   75  149  334  184  277  229   39   97  178  233   51  313  130   59   \n",
       "4  335  360  144  237  283  110  131  100  199  101  118  286  220  104  225   \n",
       "\n",
       "    15   16   17   18   19  \n",
       "0    8   11  204  232  313  \n",
       "1  179  141  250  128  107  \n",
       "2  106  268   36   54   19  \n",
       "3  195  157  259  130   52  \n",
       "4  365  238   79  335   76  "
      ]
     },
     "execution_count": 37,
     "metadata": {},
     "output_type": "execute_result"
    }
   ],
   "source": [
    "bday_20 = rng.integers(1, 366, (10_000, 20))\n",
    "bday_20 = pd.DataFrame(bday_20)\n",
    "bday_20.head()"
   ]
  },
  {
   "cell_type": "code",
   "execution_count": 38,
   "id": "a7a88f5e-028f-463a-b987-1dc6d4a0a6f4",
   "metadata": {},
   "outputs": [],
   "source": [
    "share_bday_20 = (bday_20.nunique(axis=1) < 20).sum()"
   ]
  },
  {
   "cell_type": "code",
   "execution_count": 39,
   "id": "f4412c51-62c0-42f2-a96c-e010e420ff94",
   "metadata": {},
   "outputs": [
    {
     "data": {
      "text/plain": [
       "0.4144"
      ]
     },
     "execution_count": 39,
     "metadata": {},
     "output_type": "execute_result"
    }
   ],
   "source": [
    "share_bday_20 / len(bday_20)"
   ]
  },
  {
   "cell_type": "code",
   "execution_count": 40,
   "id": "50a778af-2aed-4993-975e-bf2cf255f398",
   "metadata": {},
   "outputs": [
    {
     "data": {
      "text/html": [
       "<div>\n",
       "<style scoped>\n",
       "    .dataframe tbody tr th:only-of-type {\n",
       "        vertical-align: middle;\n",
       "    }\n",
       "\n",
       "    .dataframe tbody tr th {\n",
       "        vertical-align: top;\n",
       "    }\n",
       "\n",
       "    .dataframe thead th {\n",
       "        text-align: right;\n",
       "    }\n",
       "</style>\n",
       "<table border=\"1\" class=\"dataframe\">\n",
       "  <thead>\n",
       "    <tr style=\"text-align: right;\">\n",
       "      <th></th>\n",
       "      <th>0</th>\n",
       "      <th>1</th>\n",
       "      <th>2</th>\n",
       "      <th>3</th>\n",
       "      <th>4</th>\n",
       "      <th>5</th>\n",
       "      <th>6</th>\n",
       "      <th>7</th>\n",
       "      <th>8</th>\n",
       "      <th>9</th>\n",
       "      <th>...</th>\n",
       "      <th>30</th>\n",
       "      <th>31</th>\n",
       "      <th>32</th>\n",
       "      <th>33</th>\n",
       "      <th>34</th>\n",
       "      <th>35</th>\n",
       "      <th>36</th>\n",
       "      <th>37</th>\n",
       "      <th>38</th>\n",
       "      <th>39</th>\n",
       "    </tr>\n",
       "  </thead>\n",
       "  <tbody>\n",
       "    <tr>\n",
       "      <th>0</th>\n",
       "      <td>41</td>\n",
       "      <td>153</td>\n",
       "      <td>101</td>\n",
       "      <td>191</td>\n",
       "      <td>223</td>\n",
       "      <td>311</td>\n",
       "      <td>18</td>\n",
       "      <td>139</td>\n",
       "      <td>105</td>\n",
       "      <td>222</td>\n",
       "      <td>...</td>\n",
       "      <td>155</td>\n",
       "      <td>210</td>\n",
       "      <td>205</td>\n",
       "      <td>43</td>\n",
       "      <td>183</td>\n",
       "      <td>6</td>\n",
       "      <td>294</td>\n",
       "      <td>220</td>\n",
       "      <td>253</td>\n",
       "      <td>315</td>\n",
       "    </tr>\n",
       "    <tr>\n",
       "      <th>1</th>\n",
       "      <td>105</td>\n",
       "      <td>318</td>\n",
       "      <td>80</td>\n",
       "      <td>262</td>\n",
       "      <td>276</td>\n",
       "      <td>63</td>\n",
       "      <td>1</td>\n",
       "      <td>83</td>\n",
       "      <td>192</td>\n",
       "      <td>159</td>\n",
       "      <td>...</td>\n",
       "      <td>246</td>\n",
       "      <td>82</td>\n",
       "      <td>351</td>\n",
       "      <td>267</td>\n",
       "      <td>364</td>\n",
       "      <td>207</td>\n",
       "      <td>183</td>\n",
       "      <td>10</td>\n",
       "      <td>26</td>\n",
       "      <td>57</td>\n",
       "    </tr>\n",
       "    <tr>\n",
       "      <th>2</th>\n",
       "      <td>284</td>\n",
       "      <td>365</td>\n",
       "      <td>116</td>\n",
       "      <td>270</td>\n",
       "      <td>63</td>\n",
       "      <td>282</td>\n",
       "      <td>23</td>\n",
       "      <td>21</td>\n",
       "      <td>267</td>\n",
       "      <td>157</td>\n",
       "      <td>...</td>\n",
       "      <td>191</td>\n",
       "      <td>101</td>\n",
       "      <td>243</td>\n",
       "      <td>217</td>\n",
       "      <td>248</td>\n",
       "      <td>252</td>\n",
       "      <td>75</td>\n",
       "      <td>250</td>\n",
       "      <td>296</td>\n",
       "      <td>263</td>\n",
       "    </tr>\n",
       "    <tr>\n",
       "      <th>3</th>\n",
       "      <td>55</td>\n",
       "      <td>245</td>\n",
       "      <td>325</td>\n",
       "      <td>296</td>\n",
       "      <td>146</td>\n",
       "      <td>44</td>\n",
       "      <td>174</td>\n",
       "      <td>216</td>\n",
       "      <td>104</td>\n",
       "      <td>95</td>\n",
       "      <td>...</td>\n",
       "      <td>69</td>\n",
       "      <td>225</td>\n",
       "      <td>340</td>\n",
       "      <td>8</td>\n",
       "      <td>78</td>\n",
       "      <td>77</td>\n",
       "      <td>16</td>\n",
       "      <td>86</td>\n",
       "      <td>300</td>\n",
       "      <td>100</td>\n",
       "    </tr>\n",
       "    <tr>\n",
       "      <th>4</th>\n",
       "      <td>270</td>\n",
       "      <td>142</td>\n",
       "      <td>45</td>\n",
       "      <td>250</td>\n",
       "      <td>150</td>\n",
       "      <td>152</td>\n",
       "      <td>158</td>\n",
       "      <td>274</td>\n",
       "      <td>276</td>\n",
       "      <td>106</td>\n",
       "      <td>...</td>\n",
       "      <td>362</td>\n",
       "      <td>176</td>\n",
       "      <td>57</td>\n",
       "      <td>225</td>\n",
       "      <td>51</td>\n",
       "      <td>167</td>\n",
       "      <td>87</td>\n",
       "      <td>139</td>\n",
       "      <td>97</td>\n",
       "      <td>116</td>\n",
       "    </tr>\n",
       "  </tbody>\n",
       "</table>\n",
       "<p>5 rows × 40 columns</p>\n",
       "</div>"
      ],
      "text/plain": [
       "    0    1    2    3    4    5    6    7    8    9   ...   30   31   32   33  \\\n",
       "0   41  153  101  191  223  311   18  139  105  222  ...  155  210  205   43   \n",
       "1  105  318   80  262  276   63    1   83  192  159  ...  246   82  351  267   \n",
       "2  284  365  116  270   63  282   23   21  267  157  ...  191  101  243  217   \n",
       "3   55  245  325  296  146   44  174  216  104   95  ...   69  225  340    8   \n",
       "4  270  142   45  250  150  152  158  274  276  106  ...  362  176   57  225   \n",
       "\n",
       "    34   35   36   37   38   39  \n",
       "0  183    6  294  220  253  315  \n",
       "1  364  207  183   10   26   57  \n",
       "2  248  252   75  250  296  263  \n",
       "3   78   77   16   86  300  100  \n",
       "4   51  167   87  139   97  116  \n",
       "\n",
       "[5 rows x 40 columns]"
      ]
     },
     "execution_count": 40,
     "metadata": {},
     "output_type": "execute_result"
    }
   ],
   "source": [
    "bday_40 = rng.integers(1, 366, (10_000, 40))\n",
    "bday_40 = pd.DataFrame(bday_40)\n",
    "bday_40.head()"
   ]
  },
  {
   "cell_type": "code",
   "execution_count": 41,
   "id": "848a0bf9-e5d0-41cc-a55f-34efebc78eaa",
   "metadata": {},
   "outputs": [],
   "source": [
    "share_bday_40 = (bday_40.nunique(axis=1) < 40).sum()"
   ]
  },
  {
   "cell_type": "code",
   "execution_count": 42,
   "id": "29cb478e-c96f-4b5f-84e8-a6c4b639dde7",
   "metadata": {},
   "outputs": [
    {
     "data": {
      "text/plain": [
       "0.8899"
      ]
     },
     "execution_count": 42,
     "metadata": {},
     "output_type": "execute_result"
    }
   ],
   "source": [
    "share_bday_40 / len(bday_40)"
   ]
  },
  {
   "cell_type": "markdown",
   "id": "93dedfd3-3224-44af-b5a1-8121f1904a50",
   "metadata": {},
   "source": [
    "# **BONUS:**"
   ]
  },
  {
   "cell_type": "markdown",
   "id": "36b542b9-6e1d-417a-9de3-bf107744c62c",
   "metadata": {},
   "source": [
    "## **Mage Duel!**"
   ]
  },
  {
   "attachments": {},
   "cell_type": "markdown",
   "id": "180d4536-c0d9-4d9f-a99c-7cfb0920c46d",
   "metadata": {},
   "source": [
    "**Let's use what we've learned to play a mage duel!**\n",
    "\n",
    "**Imagine your wizard has 6d4 health points and you have spells that do 6d4 damage. \"6d4\" means rolling six 4-sided dice and summing the result.**\n",
    "\n",
    "**Your opposing mage has 4d6 health points and spells that do 4d6. \"4d6\" means rolling four six-sided dice and summing the result.**"
   ]
  },
  {
   "cell_type": "markdown",
   "id": "f5ebd284-0c1f-40b7-aed7-e1a4717d1f12",
   "metadata": {},
   "source": [
    "## **Exercises**"
   ]
  },
  {
   "cell_type": "markdown",
   "id": "f7ceb6d3-c0c4-43b9-bea2-f9a05da66f24",
   "metadata": {},
   "source": [
    "1. **Simulate mage duels to answer who is the more powerful mage?**"
   ]
  },
  {
   "cell_type": "markdown",
   "id": "4091488d-213e-430f-8626-09793734d134",
   "metadata": {},
   "source": [
    "    - Before running simulations, do you have a hypothesis of which mage will win? Do you have a hunch? Write it down. This is your first exercise.*"
   ]
  },
  {
   "cell_type": "markdown",
   "id": "939fc600-de96-47ce-bc6c-a2c736367c42",
   "metadata": {},
   "source": [
    "    - Simulate 10 mage duels. Is there a clear winner? Run that 10 duel simulation again. Was the answer similar?"
   ]
  },
  {
   "cell_type": "markdown",
   "id": "35e5bd0c-2939-40b6-9012-6a8be150f1f1",
   "metadata": {},
   "source": [
    "    - Do the results change much at 100 duels?"
   ]
  },
  {
   "cell_type": "markdown",
   "id": "5764b4a8-2d53-4d60-871d-c04638343af4",
   "metadata": {},
   "source": [
    "    - Now, simulate 10,000 mage duels. Is there a clear winner?"
   ]
  },
  {
   "cell_type": "code",
   "execution_count": 43,
   "id": "c66640f2-7275-4e7f-bdd6-ea8118f7e89b",
   "metadata": {},
   "outputs": [],
   "source": [
    "my_wiz = rng.integers(1, 5, 10).sum()\n",
    "my_wiz_dmg = rng.integers(1, 5, 10).sum()"
   ]
  },
  {
   "cell_type": "code",
   "execution_count": 44,
   "id": "1366e067-079e-4bf2-840e-96abf2d17234",
   "metadata": {},
   "outputs": [],
   "source": [
    "opps_wiz = rng.integers(1, 7, 10).sum()\n",
    "opps_wiz_dmg = rng.integers(1, 7, 10).sum()"
   ]
  },
  {
   "cell_type": "code",
   "execution_count": null,
   "id": "97a719f2-8373-4e64-8828-a276973734f7",
   "metadata": {},
   "outputs": [],
   "source": [
    "sim_10_duels = "
   ]
  }
 ],
 "metadata": {
  "kernelspec": {
   "display_name": "Python 3 (ipykernel)",
   "language": "python",
   "name": "python3"
  },
  "language_info": {
   "codemirror_mode": {
    "name": "ipython",
    "version": 3
   },
   "file_extension": ".py",
   "mimetype": "text/x-python",
   "name": "python",
   "nbconvert_exporter": "python",
   "pygments_lexer": "ipython3",
   "version": "3.10.9"
  }
 },
 "nbformat": 4,
 "nbformat_minor": 5
}
