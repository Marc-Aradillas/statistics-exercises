{
 "cells": [
  {
   "cell_type": "markdown",
   "id": "1c38191e-47e2-44dd-9c7c-13f360537303",
   "metadata": {},
   "source": [
    "# **Exercises**"
   ]
  },
  {
   "cell_type": "markdown",
   "id": "0952c22c-4534-423f-88da-5ce6327fa207",
   "metadata": {},
   "source": [
    "1. **How likely is it that you roll doubles when rolling two dice?**"
   ]
  },
  {
   "cell_type": "markdown",
   "id": "e8cf66a2-cf4a-4d6f-bb52-9f66ba29e9a8",
   "metadata": {},
   "source": [
    "2. **If you flip 8 coins, what is the probability of getting exactly 3 heads? What is the probability of getting more than 3 heads?**"
   ]
  },
  {
   "cell_type": "markdown",
   "id": "0f161589-3e0c-47a2-8629-05bb4decd0c6",
   "metadata": {},
   "source": [
    "3. **There are approximitely 3 web development cohorts for every 1 data science cohort at Codeup. Assuming that Codeup randomly selects an alumni to put on a billboard, what are the odds that the two billboards I drive past both have data science students on them?**"
   ]
  },
  {
   "cell_type": "markdown",
   "id": "71ae76cd-e5dc-4673-9ef5-41cdb6e69182",
   "metadata": {},
   "source": [
    "4. **Codeup students buy, on average, 3 poptart packages with a standard deviation of 1.5 a day from the snack vending machine. If on monday the machine is restocked with 17 poptart packages, how likely is it that I will be able to buy some poptarts on Friday afternoon? (Remember, if you have mean and standard deviation, use the np.random.normal) You'll need to make a judgement call on how to handle some of your values**"
   ]
  },
  {
   "cell_type": "markdown",
   "id": "764a0035-bde0-43c9-9277-6225fec421a0",
   "metadata": {},
   "source": [
    "5. **Compare Heights**"
   ]
  },
  {
   "cell_type": "markdown",
   "id": "34d70e2b-2b36-4ae1-b0bf-d43cda5c48d5",
   "metadata": {},
   "source": [
    "    - Men have an average height of 178 cm and standard deviation of 8cm."
   ]
  },
  {
   "cell_type": "markdown",
   "id": "3356630b-3b6f-457e-a895-7ecc7bb16af0",
   "metadata": {},
   "source": [
    "- "
   ]
  },
  {
   "cell_type": "markdown",
   "id": "deaac7b6-2795-4ac3-8f80-e4a64308ba20",
   "metadata": {},
   "source": [
    "    - Women have a mean of 170, sd = 6cm."
   ]
  },
  {
   "cell_type": "markdown",
   "id": "c9adb6fb-25a8-4cb8-b80a-dd0e23212a0e",
   "metadata": {},
   "source": [
    "- "
   ]
  },
  {
   "cell_type": "markdown",
   "id": "fbd83966-2f7d-4d65-97db-2fd5d0698bd1",
   "metadata": {},
   "source": [
    "    - Since you have means and standard deviations, you can use np.random.normal to generate observations."
   ]
  },
  {
   "cell_type": "markdown",
   "id": "97ad1b41-2a58-43a0-8e39-c276a22c3a66",
   "metadata": {},
   "source": [
    "- "
   ]
  },
  {
   "cell_type": "markdown",
   "id": "ccdb931c-8748-497d-99b5-87971545f0e1",
   "metadata": {},
   "source": [
    "    - If a man and woman are chosen at random, what is the likelihood the woman is taller than the man?"
   ]
  },
  {
   "cell_type": "markdown",
   "id": "a695e591-e9d7-4731-8d95-eb0777252f9e",
   "metadata": {},
   "source": [
    "- "
   ]
  },
  {
   "cell_type": "markdown",
   "id": "cab9af3b-e314-4a1a-abbb-d471a1588b13",
   "metadata": {},
   "source": [
    "6. **When installing anaconda on a student's computer, there's a 1 in 250 chance that the download is corrupted and the installation fails. What are the odds that after having 50 students download anaconda, no one has an installation issue? 100 students?**"
   ]
  },
  {
   "cell_type": "markdown",
   "id": "15ca5237-beb1-47e1-a3ac-c76d9bbbdf3b",
   "metadata": {},
   "source": [
    "7. **What is the probability that we observe an installation issue within the first 150 students that download anaconda?**"
   ]
  },
  {
   "cell_type": "markdown",
   "id": "09d65609-bc80-4466-bb61-857f507371b5",
   "metadata": {},
   "source": [
    "8. **How likely is it that 450 students all download anaconda without an issue?**"
   ]
  },
  {
   "cell_type": "markdown",
   "id": "a5ee8219-ab46-4320-b07f-dd3b309df078",
   "metadata": {},
   "source": [
    "9. **There's a 70% chance on any given day that there will be at least one food truck at Travis Park. However, you haven't seen a food truck there in 3 days. How unlikely is this?**"
   ]
  },
  {
   "cell_type": "markdown",
   "id": "2314ecee-4886-4c89-972f-bf20e656eb44",
   "metadata": {},
   "source": [
    "10. **How likely is it that a food truck will show up sometime this week?**"
   ]
  },
  {
   "cell_type": "markdown",
   "id": "9013d149-03b0-48d1-b248-e7395dbbdc8b",
   "metadata": {},
   "source": [
    "11. **If 23 people are in the same room, what are the odds that two of them share a birthday? What if it's 20 people? 40?**"
   ]
  }
 ],
 "metadata": {
  "kernelspec": {
   "display_name": "Python 3 (ipykernel)",
   "language": "python",
   "name": "python3"
  },
  "language_info": {
   "codemirror_mode": {
    "name": "ipython",
    "version": 3
   },
   "file_extension": ".py",
   "mimetype": "text/x-python",
   "name": "python",
   "nbconvert_exporter": "python",
   "pygments_lexer": "ipython3",
   "version": "3.10.9"
  }
 },
 "nbformat": 4,
 "nbformat_minor": 5
}
