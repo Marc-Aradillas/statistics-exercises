{
 "cells": [
  {
   "cell_type": "code",
   "execution_count": 1,
   "id": "92b8e7a8",
   "metadata": {},
   "outputs": [
    {
     "data": {
      "application/javascript": [
       "IPython.notebook.set_autosave_interval(0)"
      ]
     },
     "metadata": {},
     "output_type": "display_data"
    },
    {
     "name": "stdout",
     "output_type": "stream",
     "text": [
      "Autosave disabled\n"
     ]
    }
   ],
   "source": [
    "%autosave 0"
   ]
  },
  {
   "cell_type": "code",
   "execution_count": 2,
   "id": "5c14a1fa",
   "metadata": {},
   "outputs": [],
   "source": [
    "import numpy as np\n",
    "from scipy import stats\n",
    "\n",
    "import matplotlib.pyplot as plt"
   ]
  },
  {
   "cell_type": "markdown",
   "id": "f7c41bcf",
   "metadata": {},
   "source": [
    "Let's define a uniform distribution for the roll of a single die."
   ]
  },
  {
   "cell_type": "code",
   "execution_count": 3,
   "id": "f398bc19",
   "metadata": {},
   "outputs": [],
   "source": [
    "dice_rolls = stats.randint(1, 7)"
   ]
  },
  {
   "cell_type": "markdown",
   "id": "cd13086d",
   "metadata": {},
   "source": [
    "We can obtain random values from the distribution using the .rvs() method."
   ]
  },
  {
   "cell_type": "code",
   "execution_count": 4,
   "id": "0218bc86",
   "metadata": {},
   "outputs": [
    {
     "data": {
      "text/plain": [
       "array([6, 2, 2, 5, 1, 4, 1, 1, 5, 4])"
      ]
     },
     "execution_count": 4,
     "metadata": {},
     "output_type": "execute_result"
    }
   ],
   "source": [
    "dice_rolls.rvs(10)"
   ]
  },
  {
   "cell_type": "markdown",
   "id": "8a83e162",
   "metadata": {},
   "source": [
    "Let's return a bunch of numbers and visualize them!"
   ]
  },
  {
   "cell_type": "code",
   "execution_count": 5,
   "id": "3fca1b2e",
   "metadata": {},
   "outputs": [],
   "source": [
    "vals = dice_rolls.rvs(10_000)"
   ]
  },
  {
   "cell_type": "code",
   "execution_count": 6,
   "id": "1c84a61c",
   "metadata": {},
   "outputs": [
    {
     "data": {
      "text/plain": [
       "(array([1628., 1603., 1701., 1644., 1669., 1755.]),\n",
       " array([1., 2., 3., 4., 5., 6., 7.]),\n",
       " <BarContainer object of 6 artists>)"
      ]
     },
     "execution_count": 6,
     "metadata": {},
     "output_type": "execute_result"
    },
    {
     "data": {
      "image/png": "[encoded data removed]",
      "text/plain": [
       "<Figure size 640x480 with 1 Axes>"
      ]
     },
     "metadata": {},
     "output_type": "display_data"
    }
   ],
   "source": [
    "plt.hist(vals, bins = range(1,8), align = 'left', color = 'gray', ec = 'black')"
   ]
  },
  {
   "cell_type": "markdown",
   "id": "e4c59cb4",
   "metadata": {},
   "source": [
    "The probability mass function accepts a value and returns the probability of getting that specified value for discrete distributions.\n",
    "\n",
    "The probability density function performs the same function for continuous distributions."
   ]
  },
  {
   "cell_type": "code",
   "execution_count": 7,
   "id": "94522111",
   "metadata": {},
   "outputs": [
    {
     "data": {
      "text/plain": [
       "0.16666666666666666"
      ]
     },
     "execution_count": 7,
     "metadata": {},
     "output_type": "execute_result"
    }
   ],
   "source": [
    "dice_rolls.pmf(3)"
   ]
  },
  {
   "cell_type": "code",
   "execution_count": 9,
   "id": "ac465238-8919-49d0-819f-22068c594a66",
   "metadata": {},
   "outputs": [
    {
     "data": {
      "text/plain": [
       "0.16666666666666666"
      ]
     },
     "execution_count": 9,
     "metadata": {},
     "output_type": "execute_result"
    }
   ],
   "source": [
    "dice_rolls.pmf(5)"
   ]
  },
  {
   "cell_type": "markdown",
   "id": "8e4d7bc9",
   "metadata": {},
   "source": [
    "The cumulative density function accepts a value and returns the probability of getting a value up to and including the specified value.\n",
    "\n",
    "The percent point function accepts a proportion and returns the value under which that proportion of values is found."
   ]
  },
  {
   "cell_type": "code",
   "execution_count": 10,
   "id": "d88b052c",
   "metadata": {},
   "outputs": [
    {
     "data": {
      "text/plain": [
       "0.5"
      ]
     },
     "execution_count": 10,
     "metadata": {},
     "output_type": "execute_result"
    }
   ],
   "source": [
    "dice_rolls.cdf(3)"
   ]
  },
  {
   "cell_type": "code",
   "execution_count": 12,
   "id": "098690ca-e443-4b04-a14d-a4580407f10a",
   "metadata": {},
   "outputs": [
    {
     "data": {
      "text/plain": [
       "1.0"
      ]
     },
     "execution_count": 12,
     "metadata": {},
     "output_type": "execute_result"
    }
   ],
   "source": [
    "dice_rolls.cdf(6) #inclusive nature of the boundary set with this function"
   ]
  },
  {
   "cell_type": "code",
   "execution_count": 15,
   "id": "034503c6-13c1-4ae6-bf30-fa06222b449c",
   "metadata": {},
   "outputs": [
    {
     "data": {
      "text/plain": [
       "3.0"
      ]
     },
     "execution_count": 15,
     "metadata": {},
     "output_type": "execute_result"
    }
   ],
   "source": [
    "dice_rolls.ppf(0.5) #percent point function"
   ]
  },
  {
   "cell_type": "code",
   "execution_count": 16,
   "id": "f90d7995-300a-4227-bb05-52366d1085c7",
   "metadata": {},
   "outputs": [
    {
     "data": {
      "text/plain": [
       "4.0"
      ]
     },
     "execution_count": 16,
     "metadata": {},
     "output_type": "execute_result"
    }
   ],
   "source": [
    "dice_rolls.ppf(2/3)"
   ]
  },
  {
   "cell_type": "code",
   "execution_count": 17,
   "id": "27855ca8-e50e-4474-b3d5-5eaff067b089",
   "metadata": {},
   "outputs": [
    {
     "data": {
      "text/plain": [
       "0.6666666666666666"
      ]
     },
     "execution_count": 17,
     "metadata": {},
     "output_type": "execute_result"
    }
   ],
   "source": [
    "dice_rolls.cdf(4)"
   ]
  },
  {
   "cell_type": "markdown",
   "id": "5d8a89d9",
   "metadata": {},
   "source": [
    "The survival function accepts a value and returns the probability of getting a value greater than the one specified.\n",
    "\n",
    "The inverse survival function accepts a proportion and returns the value above which that proportion of values is found."
   ]
  },
  {
   "cell_type": "code",
   "execution_count": 19,
   "id": "6c90d0ba",
   "metadata": {},
   "outputs": [
    {
     "data": {
      "text/plain": [
       "0.33333333333333337"
      ]
     },
     "execution_count": 19,
     "metadata": {},
     "output_type": "execute_result"
    }
   ],
   "source": [
    "dice_rolls.sf(4)"
   ]
  },
  {
   "cell_type": "code",
   "execution_count": 20,
   "id": "d0e07c5d-d018-46de-88d6-901ab90d33a5",
   "metadata": {},
   "outputs": [
    {
     "data": {
      "text/plain": [
       "0.6666666666666666"
      ]
     },
     "execution_count": 20,
     "metadata": {},
     "output_type": "execute_result"
    }
   ],
   "source": [
    "dice_rolls.cdf(4)"
   ]
  },
  {
   "cell_type": "code",
   "execution_count": 21,
   "id": "3651e3ce-679e-4c32-8e0c-ff3c1dc27e1e",
   "metadata": {},
   "outputs": [
    {
     "data": {
      "text/plain": [
       "2.0"
      ]
     },
     "execution_count": 21,
     "metadata": {},
     "output_type": "execute_result"
    }
   ],
   "source": [
    "dice_rolls.isf(2/3)"
   ]
  },
  {
   "cell_type": "code",
   "execution_count": 22,
   "id": "9c05cca6-b8d8-44d3-b405-0dddd8409f31",
   "metadata": {},
   "outputs": [
    {
     "data": {
      "text/plain": [
       "0.6666666666666667"
      ]
     },
     "execution_count": 22,
     "metadata": {},
     "output_type": "execute_result"
    }
   ],
   "source": [
    "dice_rolls.sf(2)"
   ]
  },
  {
   "cell_type": "markdown",
   "id": "8b14ff0c",
   "metadata": {},
   "source": [
    "A binomial (think binary) distribution assumes there are two possible outcomes: success and failure. We create a binomial distribution with the .binom() method, where we specify the number of trials and the probability of success. We can use the familiar methods on these distributions, too!"
   ]
  },
  {
   "cell_type": "code",
   "execution_count": 23,
   "id": "70844f7a",
   "metadata": {},
   "outputs": [
    {
     "data": {
      "text/plain": [
       "<scipy.stats._distn_infrastructure.rv_discrete_frozen at 0x11029eda0>"
      ]
     },
     "execution_count": 23,
     "metadata": {},
     "output_type": "execute_result"
    }
   ],
   "source": [
    "# we are going to etsblish hoow many trials and the probability of success.\n",
    "attendance = stats.binom(8, 0.95)\n",
    "attendance"
   ]
  },
  {
   "cell_type": "code",
   "execution_count": 24,
   "id": "6e091446-d713-4c8c-8416-6be773f72be3",
   "metadata": {},
   "outputs": [
    {
     "data": {
      "text/plain": [
       "0.6634204312890623"
      ]
     },
     "execution_count": 24,
     "metadata": {},
     "output_type": "execute_result"
    }
   ],
   "source": [
    "attendance.pmf(8)"
   ]
  },
  {
   "cell_type": "code",
   "execution_count": 26,
   "id": "6fca384e-11e8-4c2e-9f41-4a5ccccebc16",
   "metadata": {},
   "outputs": [
    {
     "data": {
      "text/plain": [
       "0.9942117820703125"
      ]
     },
     "execution_count": 26,
     "metadata": {},
     "output_type": "execute_result"
    }
   ],
   "source": [
    "attendance.sf(5)"
   ]
  },
  {
   "cell_type": "code",
   "execution_count": 27,
   "id": "e54606ee-a229-4603-a11b-6c91a790b4a2",
   "metadata": {},
   "outputs": [
    {
     "data": {
      "text/plain": [
       "array([7, 8, 8, 8, 7, 8, 7, 8, 7, 7])"
      ]
     },
     "execution_count": 27,
     "metadata": {},
     "output_type": "execute_result"
    }
   ],
   "source": [
    "attendance.rvs(10)"
   ]
  },
  {
   "cell_type": "markdown",
   "id": "9c147d70",
   "metadata": {},
   "source": [
    "Normal distributions are for continuous variables. We can create a normal distribution with the .norm() method, where we specify the mean and standard deviation for the distribution."
   ]
  },
  {
   "cell_type": "code",
   "execution_count": 29,
   "id": "35116051",
   "metadata": {},
   "outputs": [
    {
     "data": {
      "text/plain": [
       "[3.906250000000028e-11,\n",
       " 5.937500000000035e-09,\n",
       " 3.948437500000023e-07,\n",
       " 1.5004062500000061e-05,\n",
       " 0.00035634648437500127,\n",
       " 0.005416466562500013,\n",
       " 0.05145643234375009,\n",
       " 0.27933491843750013,\n",
       " 0.6634204312890623]"
      ]
     },
     "execution_count": 29,
     "metadata": {},
     "output_type": "execute_result"
    }
   ],
   "source": [
    "# pmf function used to show of the odds of none would show up\n",
    "y = [attendance.pmf(i) for i in range(0, 9)]\n",
    "y"
   ]
  },
  {
   "cell_type": "code",
   "execution_count": 30,
   "id": "24f3fa0f-8830-4e2c-925b-bb74b4262c94",
   "metadata": {
    "scrolled": true
   },
   "outputs": [
    {
     "data": {
      "text/plain": [
       "<BarContainer object of 9 artists>"
      ]
     },
     "execution_count": 30,
     "metadata": {},
     "output_type": "execute_result"
    },
    {
     "data": {
      "image/png": "[encoded data removed]",
      "text/plain": [
       "<Figure size 640x480 with 1 Axes>"
      ]
     },
     "metadata": {},
     "output_type": "display_data"
    }
   ],
   "source": [
    "plt.bar(x = range(0, 9), height = y) "
   ]
  },
  {
   "cell_type": "code",
   "execution_count": 32,
   "id": "32a0e0e3-f89d-44e1-98f5-24af87ce1d1a",
   "metadata": {
    "scrolled": true
   },
   "outputs": [
    {
     "data": {
      "text/plain": [
       "0.005788217929687514"
      ]
     },
     "execution_count": 32,
     "metadata": {},
     "output_type": "execute_result"
    }
   ],
   "source": [
    "# what are the odd of 0 to 5 people that arrive on any give day and it's less than one percent.\n",
    "attendance.cdf(5) "
   ]
  },
  {
   "cell_type": "markdown",
   "id": "5e76ddce-6439-4620-894f-d946468023e2",
   "metadata": {},
   "source": [
    "Normal distributions are for continous variables. We can create a normal distribution with the norm() method, where we specify the mean and standard deviation for the distribution."
   ]
  },
  {
   "cell_type": "code",
   "execution_count": 33,
   "id": "5a1a4907-6c30-4f4f-acbd-f23e50bc1d09",
   "metadata": {},
   "outputs": [],
   "source": [
    "monthly_sales = stats.norm(23_000, 2_500)"
   ]
  },
  {
   "cell_type": "code",
   "execution_count": 34,
   "id": "658c8228-f301-4abc-9ae3-dea446f2700f",
   "metadata": {},
   "outputs": [
    {
     "data": {
      "text/plain": [
       "0.00014730805612132934"
      ]
     },
     "execution_count": 34,
     "metadata": {},
     "output_type": "execute_result"
    }
   ],
   "source": [
    "monthly_sales.pdf(24_000)"
   ]
  },
  {
   "cell_type": "code",
   "execution_count": 35,
   "id": "33245e08-3502-4feb-a657-5e30da5256ee",
   "metadata": {},
   "outputs": [
    {
     "data": {
      "text/plain": [
       "0.2118553985833967"
      ]
     },
     "execution_count": 35,
     "metadata": {},
     "output_type": "execute_result"
    }
   ],
   "source": [
    "monthly_sales.sf(25_000)"
   ]
  },
  {
   "cell_type": "code",
   "execution_count": 36,
   "id": "96404962-eeff-4251-b2c4-59db0efd08c2",
   "metadata": {},
   "outputs": [
    {
     "data": {
      "text/plain": [
       "26203.878913861503"
      ]
     },
     "execution_count": 36,
     "metadata": {},
     "output_type": "execute_result"
    }
   ],
   "source": [
    "monthly_sales.isf(0.10)"
   ]
  },
  {
   "cell_type": "code",
   "execution_count": 37,
   "id": "2b277b5b-bac6-4658-9059-d828c3320998",
   "metadata": {},
   "outputs": [
    {
     "data": {
      "text/plain": [
       "19796.121086138497"
      ]
     },
     "execution_count": 37,
     "metadata": {},
     "output_type": "execute_result"
    }
   ],
   "source": [
    "monthly_sales.ppf(0.10)"
   ]
  },
  {
   "cell_type": "markdown",
   "id": "83b8d96c",
   "metadata": {},
   "source": [
    "Poisson distributions measure how many events occur over a specific time period. We create a poisson distribution with the .poisson() method, where we only have to specify the expected value."
   ]
  },
  {
   "cell_type": "code",
   "execution_count": 38,
   "id": "fc04a12c",
   "metadata": {},
   "outputs": [],
   "source": [
    "drank_coffee = stats.poisson(15)"
   ]
  },
  {
   "cell_type": "code",
   "execution_count": 43,
   "id": "e0650fcb-edc5-4b3c-b127-2223f3b8811a",
   "metadata": {},
   "outputs": [
    {
     "data": {
      "text/plain": [
       "0.12478121503252496"
      ]
     },
     "execution_count": 43,
     "metadata": {},
     "output_type": "execute_result"
    }
   ],
   "source": [
    "drank_coffee.sf(19)"
   ]
  },
  {
   "cell_type": "code",
   "execution_count": 44,
   "id": "ecd365fc-81bb-4c3f-bb2f-d043ef942184",
   "metadata": {},
   "outputs": [
    {
     "data": {
      "text/plain": [
       "0.1024358666645339"
      ]
     },
     "execution_count": 44,
     "metadata": {},
     "output_type": "execute_result"
    }
   ],
   "source": [
    "drank_coffee.pmf(15)"
   ]
  },
  {
   "cell_type": "code",
   "execution_count": 57,
   "id": "0e7c7b8b-4266-4cec-a52a-a36d8a753b25",
   "metadata": {},
   "outputs": [
    {
     "data": {
      "text/plain": [
       "[3.059023205018258e-07,\n",
       " 4.588534807527389e-06,\n",
       " 3.4414011056455366e-05,\n",
       " 0.00017207005528227702,\n",
       " 0.000645262707308539,\n",
       " 0.0019357881219256158,\n",
       " 0.004839470304814035,\n",
       " 0.010370293510315794,\n",
       " 0.019444300331842114,\n",
       " 0.03240716721973691,\n",
       " 0.04861075082960534,\n",
       " 0.06628738749491639,\n",
       " 0.08285923436864541,\n",
       " 0.09560680888689863,\n",
       " 0.1024358666645339,\n",
       " 0.1024358666645339,\n",
       " 0.09603362499800054,\n",
       " 0.08473555146882411,\n",
       " 0.07061295955735365,\n",
       " 0.055747073334752824,\n",
       " 0.04181030500106466,\n",
       " 0.02986450357218907,\n",
       " 0.02036216152649248,\n",
       " 0.013279670560755972,\n",
       " 0.00829979410047246,\n",
       " 0.004979876460283485]"
      ]
     },
     "execution_count": 57,
     "metadata": {},
     "output_type": "execute_result"
    }
   ],
   "source": [
    "y_poisson = [drank_coffee.pmf(i) for i in range(0, 26)]\n",
    "y_poisson "
   ]
  },
  {
   "cell_type": "code",
   "execution_count": 58,
   "id": "998c46a4-72b7-4098-b11d-c87a1947af89",
   "metadata": {},
   "outputs": [
    {
     "data": {
      "text/plain": [
       "<BarContainer object of 26 artists>"
      ]
     },
     "execution_count": 58,
     "metadata": {},
     "output_type": "execute_result"
    },
    {
     "data": {
      "image/png": "[encoded data removed]",
      "text/plain": [
       "<Figure size 640x480 with 1 Axes>"
      ]
     },
     "metadata": {},
     "output_type": "display_data"
    }
   ],
   "source": [
    "plt.bar(x = range(0, 26), height = y_poisson, align = 'edge')"
   ]
  }
 ],
 "metadata": {
  "kernelspec": {
   "display_name": "Python 3 (ipykernel)",
   "language": "python",
   "name": "python3"
  },
  "language_info": {
   "codemirror_mode": {
    "name": "ipython",
    "version": 3
   },
   "file_extension": ".py",
   "mimetype": "text/x-python",
   "name": "python",
   "nbconvert_exporter": "python",
   "pygments_lexer": "ipython3",
   "version": "3.10.9"
  }
 },
 "nbformat": 4,
 "nbformat_minor": 5
}
