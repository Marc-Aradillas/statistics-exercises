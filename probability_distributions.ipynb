{
 "cells": [
  {
   "cell_type": "markdown",
   "id": "81a2a196-8e70-4da0-a68f-82474046bbac",
   "metadata": {},
   "source": [
    "# **Exercises**"
   ]
  },
  {
   "cell_type": "markdown",
   "id": "d061f35f-1b5a-4117-8f55-b6dbe5112899",
   "metadata": {},
   "source": [
    "#### **For the following problems, use python to simulate the problem and calculate an experimental probability, then compare that to the theoretical probability.**"
   ]
  },
  {
   "cell_type": "markdown",
   "id": "996901df-25be-4830-a449-9c7e160e15ab",
   "metadata": {},
   "source": [
    "1. **A bank found that the average number of cars waiting during the noon hour at a drive-up window follows a Poisson distribution with a mean of 2 cars. Make a chart of this distribution and answer these questions concerning the probability of cars waiting at the drive-up window.**"
   ]
  },
  {
   "cell_type": "markdown",
   "id": "7ed612c8-a302-4259-bb31-9c0123568952",
   "metadata": {},
   "source": [
    "    - What is the probability that no cars drive up in the noon hour?"
   ]
  },
  {
   "cell_type": "code",
   "execution_count": null,
   "id": "688b34d1-506c-4055-af60-b794b798cdfb",
   "metadata": {},
   "outputs": [],
   "source": []
  },
  {
   "cell_type": "markdown",
   "id": "d31d4c2b-5d98-4341-bcab-0688ccb0df48",
   "metadata": {},
   "source": [
    "    - What is the probability that 3 or more cars come through the drive through?"
   ]
  },
  {
   "cell_type": "code",
   "execution_count": null,
   "id": "4f661a95-d8c7-46f7-a4e2-6a76583b4f44",
   "metadata": {},
   "outputs": [],
   "source": []
  },
  {
   "cell_type": "markdown",
   "id": "0e1ac09f-f91b-44e1-82b3-ff2f103dc3e9",
   "metadata": {},
   "source": [
    "    - How likely is it that the drive through gets at least 1 car?"
   ]
  },
  {
   "cell_type": "code",
   "execution_count": null,
   "id": "231a9980-cd0d-4e49-9e8e-028b155bf5e5",
   "metadata": {},
   "outputs": [],
   "source": []
  },
  {
   "cell_type": "markdown",
   "id": "4dbb4293-022f-4cfb-9c1c-801fe03a32a7",
   "metadata": {},
   "source": [
    "2. **Grades of State University graduates are normally distributed with a mean of 3.0 and a standard deviation of .3. Calculate the following:**"
   ]
  },
  {
   "cell_type": "markdown",
   "id": "edcfe408-6489-43c1-9161-d3b38ba3fc09",
   "metadata": {},
   "source": [
    "    - What grade point average is required to be in the top 5% of the graduating class?"
   ]
  },
  {
   "cell_type": "code",
   "execution_count": null,
   "id": "2f73e474-4690-43fe-aa47-48cdc7db5f59",
   "metadata": {},
   "outputs": [],
   "source": []
  },
  {
   "cell_type": "markdown",
   "id": "8b46abbc-d54f-4e82-b559-e9c883c10e3c",
   "metadata": {},
   "source": [
    "    - What GPA constitutes the bottom 15% of the class?"
   ]
  },
  {
   "cell_type": "code",
   "execution_count": null,
   "id": "60cd1a08-e05c-4106-abbf-6da413e6679d",
   "metadata": {},
   "outputs": [],
   "source": []
  },
  {
   "cell_type": "markdown",
   "id": "00761f36-9a14-4371-8b5a-90966cf686f8",
   "metadata": {},
   "source": [
    "    - An eccentric alumnus left scholarship money for students in the third decile from the bottom of their class. Determine the range of the third decile. Would a student with a 2.8 grade point average qualify for this scholarship?"
   ]
  },
  {
   "cell_type": "code",
   "execution_count": null,
   "id": "931b81a3-0e67-4840-a742-e8b5b7e6cc13",
   "metadata": {},
   "outputs": [],
   "source": []
  },
  {
   "cell_type": "markdown",
   "id": "f99aa089-4813-4600-a7be-d7f50bf3c038",
   "metadata": {},
   "source": [
    "    - If I have a GPA of 3.5, what percentile am I in?"
   ]
  },
  {
   "cell_type": "code",
   "execution_count": null,
   "id": "4851531c-bee9-4ed9-80c9-3c41864937b0",
   "metadata": {},
   "outputs": [],
   "source": []
  },
  {
   "cell_type": "markdown",
   "id": "4a4678eb-8ef4-44ed-a4e2-9616b115e1a4",
   "metadata": {},
   "source": [
    "3. **A marketing website has an average click-through rate of 2%. One day they observe 4326 visitors and 97 click-throughs. How likely is it that this many people or more click through?**"
   ]
  },
  {
   "cell_type": "code",
   "execution_count": null,
   "id": "6e73c6dc-bb3d-4ddc-9272-7af8f31ec3fb",
   "metadata": {},
   "outputs": [],
   "source": []
  },
  {
   "cell_type": "markdown",
   "id": "12247ceb-a186-4ff7-a34d-1ebe4b690043",
   "metadata": {},
   "source": [
    "4. **You are working on some statistics homework consisting of 100 questions where all of the answers are a probability rounded to the hundreths place. Looking to save time, you put down random probabilities as the answer to each question.**"
   ]
  },
  {
   "cell_type": "markdown",
   "id": "d17610d9-947e-4adc-a2fa-336f39ff5e21",
   "metadata": {},
   "source": [
    "    - What is the probability that at least one of your first 60 answers is correct?"
   ]
  },
  {
   "cell_type": "code",
   "execution_count": null,
   "id": "3973fdcd-3198-45a2-ac67-3e4005cbbe4d",
   "metadata": {},
   "outputs": [],
   "source": []
  },
  {
   "cell_type": "markdown",
   "id": "72faaf62-1f9e-4f9c-8cee-a31c2f637db1",
   "metadata": {},
   "source": [
    "5. **The codeup staff tends to get upset when the student break area is not cleaned up. Suppose that there's a 3% chance that any one student cleans the break area when they visit it, and, on any given day, about 90% of the 3 active cohorts of 22 students visit the break area. How likely is it that the break area gets cleaned up each day? How likely is it that it goes two days without getting cleaned up? All week?**"
   ]
  },
  {
   "cell_type": "code",
   "execution_count": null,
   "id": "8ee6a7b6-459c-4f7b-821b-779570974528",
   "metadata": {},
   "outputs": [],
   "source": []
  },
  {
   "cell_type": "markdown",
   "id": "9766643c-377c-41df-95b6-9507ecfb1200",
   "metadata": {},
   "source": [
    "6. **You want to get lunch at La Panaderia, but notice that the line is usually very long at lunchtime. After several weeks of careful observation, you notice that the average number of people in line when your lunch break starts is normally distributed with a mean of 15 and standard deviation of 3. If it takes 2 minutes for each person to order, and 10 minutes from ordering to getting your food, what is the likelihood that you have at least 15 minutes left to eat your food before you have to go back to class? Assume you have one hour for lunch, and ignore travel time to and from La Panaderia.**"
   ]
  },
  {
   "cell_type": "code",
   "execution_count": null,
   "id": "651f58f8-ecc8-40d8-9c96-8267669fb176",
   "metadata": {},
   "outputs": [],
   "source": []
  },
  {
   "cell_type": "markdown",
   "id": "06bf8459-f7e3-48f1-8f09-c4be46bbb3ff",
   "metadata": {},
   "source": [
    "7. **Connect to the employees database and find the average salary of current employees, along with the standard deviation. For the following questions, calculate the answer based on modeling the employees salaries with a normal distribution defined by the calculated mean and standard deviation then compare this answer to the actual values present in the salaries dataset.**"
   ]
  },
  {
   "cell_type": "markdown",
   "id": "e43d0719-0bc6-4e0d-8c39-60d31b3503d9",
   "metadata": {},
   "source": [
    "    a. What percent of employees earn less than 60,000?"
   ]
  },
  {
   "cell_type": "code",
   "execution_count": null,
   "id": "866fb0fe-f903-46e3-880c-7aaf40afc033",
   "metadata": {},
   "outputs": [],
   "source": []
  },
  {
   "cell_type": "markdown",
   "id": "1e67584b-aafe-400d-a338-3565e4d21eed",
   "metadata": {},
   "source": [
    "    b. What percent of employees earn more than 95,000?"
   ]
  },
  {
   "cell_type": "code",
   "execution_count": null,
   "id": "0b029046-bc22-43e5-a9b2-179542db5d77",
   "metadata": {},
   "outputs": [],
   "source": []
  },
  {
   "cell_type": "markdown",
   "id": "3f7c025d-a605-4149-9e97-7b958ba3fbae",
   "metadata": {},
   "source": [
    "    c. What percent of employees earn between 65,000 and 80,000?"
   ]
  },
  {
   "cell_type": "code",
   "execution_count": null,
   "id": "641bc7f9-4f5d-44ea-a485-12b8c59e4a4b",
   "metadata": {},
   "outputs": [],
   "source": []
  },
  {
   "cell_type": "markdown",
   "id": "659f4002-3d03-4377-8645-4dfe82c6c416",
   "metadata": {},
   "source": [
    "    d. What do the top 5% of employees make?"
   ]
  },
  {
   "cell_type": "code",
   "execution_count": null,
   "id": "0ced7e23-0094-4413-98b5-2588f7988497",
   "metadata": {},
   "outputs": [],
   "source": []
  },
  {
   "cell_type": "markdown",
   "id": "44a5fb8b-a352-446f-9135-e916e3bad76a",
   "metadata": {},
   "source": [
    "#### **Hint If you're looking at this exercise and wondering \"How do I get pandas to talk the database, again?\", remember that you'll need 3 things: your .gitignore, your env.py, and to use pd.read_sql. Copy over your .gitignore and env.py from your data science libraries exercises folder, and connect to the employees database like so:**"
   ]
  },
  {
   "cell_type": "code",
   "execution_count": null,
   "id": "741688b3-c20d-4da1-8d7a-9ee977449438",
   "metadata": {},
   "outputs": [],
   "source": [
    "\"\"\"\n",
    "import pandas as pd\n",
    "import env\n",
    "from sqlalchemy import text, create_engine\n",
    "\n",
    "url = f'mysql+pymysql://{env.user}:{env.password}@{env.host}/employees'\n",
    "engine = create_engine(url)    \n",
    "pd.read_sql(text('SELECT * FROM departments'), engine.connect())\n",
    "\n",
    "\n",
    "While time is the most common interval used, the poisson distribution can also be used for intervals like distance, area, or volume. ↩\n",
    "\"\"\""
   ]
  }
 ],
 "metadata": {
  "kernelspec": {
   "display_name": "Python 3 (ipykernel)",
   "language": "python",
   "name": "python3"
  },
  "language_info": {
   "codemirror_mode": {
    "name": "ipython",
    "version": 3
   },
   "file_extension": ".py",
   "mimetype": "text/x-python",
   "name": "python",
   "nbconvert_exporter": "python",
   "pygments_lexer": "ipython3",
   "version": "3.10.9"
  }
 },
 "nbformat": 4,
 "nbformat_minor": 5
}
