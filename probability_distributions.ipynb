{
 "cells": [
  {
   "cell_type": "markdown",
   "id": "81a2a196-8e70-4da0-a68f-82474046bbac",
   "metadata": {},
   "source": [
    "# **Exercises**"
   ]
  },
  {
   "cell_type": "markdown",
   "id": "d061f35f-1b5a-4117-8f55-b6dbe5112899",
   "metadata": {},
   "source": [
    "#### **For the following problems, use python to simulate the problem and calculate an experimental probability, then compare that to the theoretical probability.**"
   ]
  },
  {
   "cell_type": "code",
   "execution_count": 1,
   "id": "ef1ee220-4670-448e-8fec-223edd30039a",
   "metadata": {},
   "outputs": [],
   "source": [
    "# DS Libs\n",
    "import numpy as np\n",
    "import pandas as pd\n",
    "import matplotlib.pyplot as plt\n",
    "\n",
    "from scipy import stats\n",
    "from pydataset import data\n",
    "from env import get_connection\n",
    "from sqlalchemy import create_engine, text"
   ]
  },
  {
   "cell_type": "markdown",
   "id": "996901df-25be-4830-a449-9c7e160e15ab",
   "metadata": {},
   "source": [
    "1. **A bank found that the average number of cars waiting during the noon hour at a drive-up window follows a Poisson distribution with a mean of 2 cars. Make a chart of this distribution and answer these questions concerning the probability of cars waiting at the drive-up window.**"
   ]
  },
  {
   "cell_type": "code",
   "execution_count": 2,
   "id": "37938c90-b6fd-4150-9497-da978ad0c9b6",
   "metadata": {},
   "outputs": [
    {
     "data": {
      "text/plain": [
       "<scipy.stats._distn_infrastructure.rv_discrete_frozen at 0x10861fa00>"
      ]
     },
     "execution_count": 2,
     "metadata": {},
     "output_type": "execute_result"
    }
   ],
   "source": [
    "avg_cars = stats.poisson(2)\n",
    "avg_cars"
   ]
  },
  {
   "cell_type": "code",
   "execution_count": 3,
   "id": "0e95ed98-20c5-4d50-a260-e33f4c2e408f",
   "metadata": {},
   "outputs": [
    {
     "data": {
      "text/plain": [
       "[0.1353352832366127,\n",
       " 0.2706705664732254,\n",
       " 0.2706705664732254,\n",
       " 0.18044704431548356,\n",
       " 0.09022352215774178,\n",
       " 0.03608940886309672,\n",
       " 0.012029802954365565,\n",
       " 0.0034370865583901616,\n",
       " 0.0008592716395975402,\n",
       " 0.00019094925324389823,\n",
       " 3.818985064877954e-05]"
      ]
     },
     "execution_count": 3,
     "metadata": {},
     "output_type": "execute_result"
    }
   ],
   "source": [
    "y = [avg_cars.pmf(i) for i in range(0,11)]\n",
    "y"
   ]
  },
  {
   "cell_type": "code",
   "execution_count": 4,
   "id": "ae9833e5-2321-496b-aa37-c2c11fafe170",
   "metadata": {},
   "outputs": [
    {
     "data": {
      "text/plain": [
       "<BarContainer object of 11 artists>"
      ]
     },
     "execution_count": 4,
     "metadata": {},
     "output_type": "execute_result"
    },
    {
     "data": {
      "image/png": "[encoded data removed]",
      "text/plain": [
       "<Figure size 640x480 with 1 Axes>"
      ]
     },
     "metadata": {},
     "output_type": "display_data"
    }
   ],
   "source": [
    "plt.bar(x = range(0,11), height = y)"
   ]
  },
  {
   "cell_type": "code",
   "execution_count": 5,
   "id": "0eb89e63-387a-4b18-8a07-3ec4f544155b",
   "metadata": {},
   "outputs": [
    {
     "data": {
      "text/plain": [
       "0.1353352832366127"
      ]
     },
     "execution_count": 5,
     "metadata": {},
     "output_type": "execute_result"
    }
   ],
   "source": [
    "avg_cars.pmf(0)"
   ]
  },
  {
   "cell_type": "code",
   "execution_count": 6,
   "id": "96cb98c4-37b6-45d2-8366-9cb14b313fbd",
   "metadata": {},
   "outputs": [
    {
     "data": {
      "text/plain": [
       "0.32332358381693654"
      ]
     },
     "execution_count": 6,
     "metadata": {},
     "output_type": "execute_result"
    }
   ],
   "source": [
    "avg_cars.sf(2) # need to use survivor function"
   ]
  },
  {
   "cell_type": "code",
   "execution_count": 7,
   "id": "d6c30e4c-f79d-425e-953f-1756a7ff0268",
   "metadata": {},
   "outputs": [
    {
     "data": {
      "text/plain": [
       "0.8646647167633873"
      ]
     },
     "execution_count": 7,
     "metadata": {},
     "output_type": "execute_result"
    }
   ],
   "source": [
    "avg_cars.sf(0) # need to use survivor function"
   ]
  },
  {
   "cell_type": "markdown",
   "id": "7ed612c8-a302-4259-bb31-9c0123568952",
   "metadata": {},
   "source": [
    "    - What is the probability that no cars drive up in the noon hour?"
   ]
  },
  {
   "cell_type": "markdown",
   "id": "618ed663-daa1-43c2-8aba-edaa158f3f72",
   "metadata": {},
   "source": [
    "- There is an estimated 14% likelihood of no vehicles arriving in the noon hour."
   ]
  },
  {
   "cell_type": "markdown",
   "id": "d31d4c2b-5d98-4341-bcab-0688ccb0df48",
   "metadata": {},
   "source": [
    "    - What is the probability that 3 or more cars come through the drive through?"
   ]
  },
  {
   "cell_type": "markdown",
   "id": "10396798-4188-44c1-b232-18ca89c06148",
   "metadata": {},
   "source": [
    "- There is an estimated 32% likelihood of 3 or more cars come through the drive through"
   ]
  },
  {
   "cell_type": "markdown",
   "id": "0e1ac09f-f91b-44e1-82b3-ff2f103dc3e9",
   "metadata": {},
   "source": [
    "    - How likely is it that the drive through gets at least 1 car?"
   ]
  },
  {
   "cell_type": "markdown",
   "id": "964525d7-2ffa-4b4c-b72a-92943641c81c",
   "metadata": {},
   "source": [
    "- There is an estimated 86% percent likelihood of at least 1 car arrives at the drive through."
   ]
  },
  {
   "cell_type": "markdown",
   "id": "4dbb4293-022f-4cfb-9c1c-801fe03a32a7",
   "metadata": {},
   "source": [
    "2. **Grades of State University graduates are normally distributed with a mean of 3.0 and a standard deviation of .3. Calculate the following:**"
   ]
  },
  {
   "cell_type": "code",
   "execution_count": 8,
   "id": "2f73e474-4690-43fe-aa47-48cdc7db5f59",
   "metadata": {},
   "outputs": [],
   "source": [
    "gpa = stats.norm(3.0, 0.3)"
   ]
  },
  {
   "cell_type": "code",
   "execution_count": 9,
   "id": "d5f94074-c5b8-4118-9a19-6ba2364ffa37",
   "metadata": {},
   "outputs": [
    {
     "data": {
      "text/plain": [
       "3.4934560880854417"
      ]
     },
     "execution_count": 9,
     "metadata": {},
     "output_type": "execute_result"
    }
   ],
   "source": [
    "gpa.isf(0.05)"
   ]
  },
  {
   "cell_type": "code",
   "execution_count": 10,
   "id": "3fa54263-5efd-4b3c-85f8-4206d9d721f0",
   "metadata": {},
   "outputs": [
    {
     "data": {
      "text/plain": [
       "2.689069983151863"
      ]
     },
     "execution_count": 10,
     "metadata": {},
     "output_type": "execute_result"
    }
   ],
   "source": [
    "gpa.ppf(0.15)"
   ]
  },
  {
   "cell_type": "markdown",
   "id": "edcfe408-6489-43c1-9161-d3b38ba3fc09",
   "metadata": {},
   "source": [
    "    - What grade point average is required to be in the top 5% of the graduating class?"
   ]
  },
  {
   "cell_type": "markdown",
   "id": "d07346f9-db82-422b-8fda-ea03b9fa0d65",
   "metadata": {},
   "source": [
    "- a 3.493 GPA at least is required to be in the top 5% of the graduating class."
   ]
  },
  {
   "cell_type": "markdown",
   "id": "8b46abbc-d54f-4e82-b559-e9c883c10e3c",
   "metadata": {},
   "source": [
    "    - What GPA constitutes the bottom 15% of the class?"
   ]
  },
  {
   "cell_type": "markdown",
   "id": "7b513128-d8ff-4d19-b9b2-e612219999e0",
   "metadata": {},
   "source": [
    "- A 2.689 GPA constitues the bottom 15%"
   ]
  },
  {
   "cell_type": "markdown",
   "id": "00761f36-9a14-4371-8b5a-90966cf686f8",
   "metadata": {},
   "source": [
    "    - An eccentric alumnus left scholarship money for students in the third decile from the bottom of their class. Determine the range of the third decile. Would a student with a 2.8 grade point average qualify for this scholarship?"
   ]
  },
  {
   "cell_type": "code",
   "execution_count": 11,
   "id": "cd4fffd8-0c4b-46ed-8944-b4b486a32f0e",
   "metadata": {},
   "outputs": [],
   "source": [
    "# instructor implementation\n",
    "\n",
    "third_decile = gpa.ppf([.20,.30])"
   ]
  },
  {
   "cell_type": "code",
   "execution_count": 12,
   "id": "17933a8d-0c2e-462a-8e93-bdf7afd8452d",
   "metadata": {},
   "outputs": [],
   "source": [
    "# list comprehension to list the range\n",
    "third_decile = [gpa.ppf(n/10) for n in (2, 3)]"
   ]
  },
  {
   "cell_type": "code",
   "execution_count": 13,
   "id": "b99bdf20-029f-4bed-8afb-a2bb31f67741",
   "metadata": {},
   "outputs": [
    {
     "data": {
      "text/plain": [
       "[2.7475136299281258, 2.842679846187588]"
      ]
     },
     "execution_count": 13,
     "metadata": {},
     "output_type": "execute_result"
    }
   ],
   "source": [
    "third_decile"
   ]
  },
  {
   "cell_type": "markdown",
   "id": "412f158a-f64d-4fb3-b26e-b4bc37ecd573",
   "metadata": {},
   "source": [
    "- yes a student with a 2.8 gpa would qualify for this scolarship"
   ]
  },
  {
   "cell_type": "markdown",
   "id": "f99aa089-4813-4600-a7be-d7f50bf3c038",
   "metadata": {},
   "source": [
    "    - If I have a GPA of 3.5, what percentile am I in?"
   ]
  },
  {
   "cell_type": "code",
   "execution_count": 14,
   "id": "095e008c-4edf-421a-af64-bca67a33a971",
   "metadata": {},
   "outputs": [
    {
     "data": {
      "text/plain": [
       "0.9522096477271853"
      ]
     },
     "execution_count": 14,
     "metadata": {},
     "output_type": "execute_result"
    }
   ],
   "source": [
    "gpa.cdf(3.5)"
   ]
  },
  {
   "cell_type": "code",
   "execution_count": 15,
   "id": "4851531c-bee9-4ed9-80c9-3c41864937b0",
   "metadata": {},
   "outputs": [
    {
     "data": {
      "text/plain": [
       "0.0477903522728147"
      ]
     },
     "execution_count": 15,
     "metadata": {},
     "output_type": "execute_result"
    }
   ],
   "source": [
    "gpa.sf(3.5)"
   ]
  },
  {
   "cell_type": "markdown",
   "id": "4f497926-9c52-4396-b88a-1738b276b33a",
   "metadata": {},
   "source": [
    "- you belong in the 5th percentile or the top 5%."
   ]
  },
  {
   "cell_type": "markdown",
   "id": "4a4678eb-8ef4-44ed-a4e2-9616b115e1a4",
   "metadata": {},
   "source": [
    "3. **A marketing website has an average click-through rate of 2%. One day they observe 4326 visitors and 97 click-throughs. How likely is it that this many people or more click through?**"
   ]
  },
  {
   "cell_type": "code",
   "execution_count": 16,
   "id": "6e73c6dc-bb3d-4ddc-9272-7af8f31ec3fb",
   "metadata": {},
   "outputs": [],
   "source": [
    "probability = stats.binom.pmf(97, 4326, 0.02)"
   ]
  },
  {
   "cell_type": "code",
   "execution_count": 17,
   "id": "c81dcad0-33ed-40f8-bc9f-3bf5956f3ae7",
   "metadata": {},
   "outputs": [
    {
     "data": {
      "text/plain": [
       "0.021942930454375544"
      ]
     },
     "execution_count": 17,
     "metadata": {},
     "output_type": "execute_result"
    }
   ],
   "source": [
    "probability"
   ]
  },
  {
   "cell_type": "code",
   "execution_count": 18,
   "id": "daa8a2cf-11b5-4ae7-b075-0b0d03c56456",
   "metadata": {},
   "outputs": [
    {
     "data": {
      "image/png": "[encoded data removed]",
      "text/plain": [
       "<Figure size 640x480 with 1 Axes>"
      ]
     },
     "metadata": {},
     "output_type": "display_data"
    }
   ],
   "source": [
    "x = np.arange(0, 4326)\n",
    "y = stats.binom.pmf(x, 4326, 0.02)\n",
    "plt.plot(x, y)\n",
    "plt.show()"
   ]
  },
  {
   "cell_type": "markdown",
   "id": "12247ceb-a186-4ff7-a34d-1ebe4b690043",
   "metadata": {},
   "source": [
    "4. **You are working on some statistics homework consisting of 100 questions where all of the answers are a probability rounded to the hundreths place. Looking to save time, you put down random probabilities as the answer to each question.**"
   ]
  },
  {
   "cell_type": "code",
   "execution_count": 19,
   "id": "13aa0351-ad36-4629-80f8-b8463e56014f",
   "metadata": {},
   "outputs": [],
   "source": [
    "probabilities = np.random.default_rng(seed = 42)"
   ]
  },
  {
   "cell_type": "code",
   "execution_count": 20,
   "id": "fc14e8bb-3719-4de0-950e-e0e8236db2a7",
   "metadata": {},
   "outputs": [
    {
     "data": {
      "text/plain": [
       "array([[0.77395605],\n",
       "       [0.43887844],\n",
       "       [0.85859792],\n",
       "       [0.69736803],\n",
       "       [0.09417735]])"
      ]
     },
     "execution_count": 20,
     "metadata": {},
     "output_type": "execute_result"
    }
   ],
   "source": [
    "answers = probabilities.random((100, 1))\n",
    "answers[:5]"
   ]
  },
  {
   "cell_type": "code",
   "execution_count": 21,
   "id": "5bd28579-64ae-49e7-b046-b4d364da428d",
   "metadata": {},
   "outputs": [
    {
     "data": {
      "text/plain": [
       "array([[0.77],\n",
       "       [0.44],\n",
       "       [0.86],\n",
       "       [0.7 ],\n",
       "       [0.09]])"
      ]
     },
     "execution_count": 21,
     "metadata": {},
     "output_type": "execute_result"
    }
   ],
   "source": [
    "answers_rounded = np.round(answers, 2, out=None)\n",
    "answers_rounded[:5]"
   ]
  },
  {
   "cell_type": "markdown",
   "id": "d17610d9-947e-4adc-a2fa-336f39ff5e21",
   "metadata": {},
   "source": [
    "    - What is the probability that at least one of your first 60 answers is correct?"
   ]
  },
  {
   "cell_type": "markdown",
   "id": "6555bd03-c839-4988-899e-a15f073d3553",
   "metadata": {},
   "source": [
    "- There is a 45% likelihood getting a correct answer."
   ]
  },
  {
   "cell_type": "code",
   "execution_count": 22,
   "id": "c1274c22-fcb3-4567-8df7-420f441c67e5",
   "metadata": {},
   "outputs": [],
   "source": [
    "answers_rounded = stats.binom(60, 0.01).sf(0)"
   ]
  },
  {
   "cell_type": "code",
   "execution_count": 23,
   "id": "50b79dfd-c039-46f4-8937-724f3576d3f5",
   "metadata": {},
   "outputs": [
    {
     "data": {
      "text/plain": [
       "0.45284335760923855"
      ]
     },
     "execution_count": 23,
     "metadata": {},
     "output_type": "execute_result"
    }
   ],
   "source": [
    "answers_rounded"
   ]
  },
  {
   "cell_type": "markdown",
   "id": "72faaf62-1f9e-4f9c-8cee-a31c2f637db1",
   "metadata": {},
   "source": [
    "5. **The codeup staff tends to get upset when the student break area is not cleaned up. Suppose that there's a 3% chance that any one student cleans the break area when they visit it, and, on any given day, about 90% of the 3 active cohorts of 22 students visit the break area. How likely is it that the break area gets cleaned up each day? How likely is it that it goes two days without getting cleaned up? All week**\n",
    "\n",
    " - 3% chance\n",
    "   \n",
    " - There is a low chance that the break room will not be cleaned if it goes 2 days without getting cleaned.\n",
    "   \n",
    " - There is a an even lesser chance that it will be cleaned all week as the week progresses.\n",
    "   "
   ]
  },
  {
   "cell_type": "code",
   "execution_count": 24,
   "id": "ee18790e-1998-46b2-80d3-61f14b82c708",
   "metadata": {},
   "outputs": [],
   "source": [
    "students = 66 * (9/10)"
   ]
  },
  {
   "cell_type": "code",
   "execution_count": 25,
   "id": "066aa66f-5578-4cd8-82b7-9d1fb48b595d",
   "metadata": {},
   "outputs": [
    {
     "data": {
      "text/plain": [
       "59"
      ]
     },
     "execution_count": 25,
     "metadata": {},
     "output_type": "execute_result"
    }
   ],
   "source": [
    "round(students)"
   ]
  },
  {
   "cell_type": "code",
   "execution_count": 26,
   "id": "38feeff5-a822-48f3-b317-1613241fd43a",
   "metadata": {},
   "outputs": [],
   "source": [
    "clean = stats.binom.pmf(1, 59, 0.03)"
   ]
  },
  {
   "cell_type": "code",
   "execution_count": 27,
   "id": "8ee6a7b6-459c-4f7b-821b-779570974528",
   "metadata": {},
   "outputs": [
    {
     "data": {
      "text/plain": [
       "0.30250590303772024"
      ]
     },
     "execution_count": 27,
     "metadata": {},
     "output_type": "execute_result"
    }
   ],
   "source": [
    "clean"
   ]
  },
  {
   "cell_type": "code",
   "execution_count": 28,
   "id": "1567e48f-e901-452f-a4f1-a509aa4d4d64",
   "metadata": {},
   "outputs": [],
   "source": [
    "not_clean = stats.binom.pmf(2, 59, 0.03)"
   ]
  },
  {
   "cell_type": "code",
   "execution_count": 29,
   "id": "cd325682-2b3e-4138-9403-6789cf53746e",
   "metadata": {},
   "outputs": [
    {
     "data": {
      "text/plain": [
       "0.27131972746682126"
      ]
     },
     "execution_count": 29,
     "metadata": {},
     "output_type": "execute_result"
    }
   ],
   "source": [
    "not_clean"
   ]
  },
  {
   "cell_type": "code",
   "execution_count": 30,
   "id": "3d907144-58e1-4ae9-bc1d-4ca5119baf05",
   "metadata": {},
   "outputs": [],
   "source": [
    "clean = stats.binom.pmf(7, 59, 0.03)"
   ]
  },
  {
   "cell_type": "code",
   "execution_count": 31,
   "id": "8d70576f-f66f-4bbf-9eef-34e006903e52",
   "metadata": {},
   "outputs": [
    {
     "data": {
      "text/plain": [
       "0.0015308182645021292"
      ]
     },
     "execution_count": 31,
     "metadata": {},
     "output_type": "execute_result"
    }
   ],
   "source": [
    "clean"
   ]
  },
  {
   "cell_type": "markdown",
   "id": "9766643c-377c-41df-95b6-9507ecfb1200",
   "metadata": {},
   "source": [
    "6. **You want to get lunch at La Panaderia, but notice that the line is usually very long at lunchtime. After several weeks of careful observation, you notice that the average number of people in line when your lunch break starts is normally distributed with a mean of 15 and standard deviation of 3. If it takes 2 minutes for each person to order, and 10 minutes from ordering to getting your food, what is the likelihood that you have at least 15 minutes left to eat your food before you have to go back to class? Assume you have one hour for lunch, and ignore travel time to and from La Panaderia.**\n",
    "\n",
    "   - after calculations it equals to 20 minutes to eat lunch.\n",
    "  \n",
    "   - there is an estimated 48% likelihood of having 15 minutes left to eat your food."
   ]
  },
  {
   "cell_type": "code",
   "execution_count": 32,
   "id": "3be6a005-3acd-4f5f-a3b5-fada936105f5",
   "metadata": {
    "scrolled": true
   },
   "outputs": [
    {
     "data": {
      "text/plain": [
       "30"
      ]
     },
     "execution_count": 32,
     "metadata": {},
     "output_type": "execute_result"
    }
   ],
   "source": [
    "# the time it takes to get through the line. The time it takes to \n",
    "# get through the line is the product of the number of people in line and \n",
    "# the time it takes to order each person. In this case, the time it takes \n",
    "# to get through the line is 2 * 15 = 30 minutes\n",
    "time_order = 2 * 15\n",
    "time_order"
   ]
  },
  {
   "cell_type": "code",
   "execution_count": 33,
   "id": "33ddfb3f-c3e6-448b-ab66-e4f0a928c498",
   "metadata": {},
   "outputs": [],
   "source": [
    "# 30 minutes ot order"
   ]
  },
  {
   "cell_type": "code",
   "execution_count": 34,
   "id": "2a88482e-f6eb-4c5d-9619-cddcd733d4b1",
   "metadata": {},
   "outputs": [],
   "source": [
    "order_and_wait = time_order + 10"
   ]
  },
  {
   "cell_type": "code",
   "execution_count": 35,
   "id": "afe280ce-ec1c-45d4-b898-40e8e7e127c9",
   "metadata": {},
   "outputs": [
    {
     "data": {
      "text/plain": [
       "40"
      ]
     },
     "execution_count": 35,
     "metadata": {},
     "output_type": "execute_result"
    }
   ],
   "source": [
    "order_and_wait"
   ]
  },
  {
   "cell_type": "code",
   "execution_count": 36,
   "id": "f2988b75-cbab-4706-ab1e-245a0c5413bc",
   "metadata": {},
   "outputs": [],
   "source": [
    "time_available = 60 - order_and_wait"
   ]
  },
  {
   "cell_type": "code",
   "execution_count": 37,
   "id": "46d77c0d-2bfe-4a76-bd4f-8ebe34115453",
   "metadata": {},
   "outputs": [
    {
     "data": {
      "text/plain": [
       "20"
      ]
     },
     "execution_count": 37,
     "metadata": {},
     "output_type": "execute_result"
    }
   ],
   "source": [
    "time_available"
   ]
  },
  {
   "cell_type": "code",
   "execution_count": 38,
   "id": "651f58f8-ecc8-40d8-9c96-8267669fb176",
   "metadata": {},
   "outputs": [],
   "source": [
    "time = stats.norm.cdf(10, 15, 3)"
   ]
  },
  {
   "cell_type": "code",
   "execution_count": 39,
   "id": "c996dc7d-0942-433f-ab25-762c7d434ef3",
   "metadata": {},
   "outputs": [
    {
     "data": {
      "text/plain": [
       "0.0477903522728147"
      ]
     },
     "execution_count": 39,
     "metadata": {},
     "output_type": "execute_result"
    }
   ],
   "source": [
    "time"
   ]
  },
  {
   "cell_type": "markdown",
   "id": "06bf8459-f7e3-48f1-8f09-c4be46bbb3ff",
   "metadata": {},
   "source": [
    "7. **Connect to the employees database and find the average salary of current employees, along with the standard deviation. For the following questions, calculate the answer based on modeling the employees salaries with a normal distribution defined by the calculated mean and standard deviation then compare this answer to the actual values present in the salaries dataset.**"
   ]
  },
  {
   "cell_type": "code",
   "execution_count": 40,
   "id": "2766fee1-38ef-4d93-928b-70baa97dcdf4",
   "metadata": {},
   "outputs": [],
   "source": [
    "def get_db_url(database):\n",
    "    return get_connection(database)"
   ]
  },
  {
   "cell_type": "code",
   "execution_count": 41,
   "id": "b83d4f6b-aba0-4b75-992d-867e9a2e08a2",
   "metadata": {},
   "outputs": [],
   "source": [
    "url = get_db_url('employees')\n",
    "query = text('SELECT * FROM salaries where to_date >now()')\n",
    "engine = create_engine(url)\n",
    "salaries = pd.read_sql(query, engine.connect())"
   ]
  },
  {
   "cell_type": "code",
   "execution_count": 42,
   "id": "e7823ade-d482-4400-8485-acb5e8e02953",
   "metadata": {},
   "outputs": [
    {
     "data": {
      "text/html": [
       "<div>\n",
       "<style scoped>\n",
       "    .dataframe tbody tr th:only-of-type {\n",
       "        vertical-align: middle;\n",
       "    }\n",
       "\n",
       "    .dataframe tbody tr th {\n",
       "        vertical-align: top;\n",
       "    }\n",
       "\n",
       "    .dataframe thead th {\n",
       "        text-align: right;\n",
       "    }\n",
       "</style>\n",
       "<table border=\"1\" class=\"dataframe\">\n",
       "  <thead>\n",
       "    <tr style=\"text-align: right;\">\n",
       "      <th></th>\n",
       "      <th>emp_no</th>\n",
       "      <th>salary</th>\n",
       "      <th>from_date</th>\n",
       "      <th>to_date</th>\n",
       "    </tr>\n",
       "  </thead>\n",
       "  <tbody>\n",
       "    <tr>\n",
       "      <th>0</th>\n",
       "      <td>10001</td>\n",
       "      <td>88958</td>\n",
       "      <td>2002-06-22</td>\n",
       "      <td>9999-01-01</td>\n",
       "    </tr>\n",
       "    <tr>\n",
       "      <th>1</th>\n",
       "      <td>10002</td>\n",
       "      <td>72527</td>\n",
       "      <td>2001-08-02</td>\n",
       "      <td>9999-01-01</td>\n",
       "    </tr>\n",
       "    <tr>\n",
       "      <th>2</th>\n",
       "      <td>10003</td>\n",
       "      <td>43311</td>\n",
       "      <td>2001-12-01</td>\n",
       "      <td>9999-01-01</td>\n",
       "    </tr>\n",
       "    <tr>\n",
       "      <th>3</th>\n",
       "      <td>10004</td>\n",
       "      <td>74057</td>\n",
       "      <td>2001-11-27</td>\n",
       "      <td>9999-01-01</td>\n",
       "    </tr>\n",
       "    <tr>\n",
       "      <th>4</th>\n",
       "      <td>10005</td>\n",
       "      <td>94692</td>\n",
       "      <td>2001-09-09</td>\n",
       "      <td>9999-01-01</td>\n",
       "    </tr>\n",
       "  </tbody>\n",
       "</table>\n",
       "</div>"
      ],
      "text/plain": [
       "   emp_no  salary   from_date     to_date\n",
       "0   10001   88958  2002-06-22  9999-01-01\n",
       "1   10002   72527  2001-08-02  9999-01-01\n",
       "2   10003   43311  2001-12-01  9999-01-01\n",
       "3   10004   74057  2001-11-27  9999-01-01\n",
       "4   10005   94692  2001-09-09  9999-01-01"
      ]
     },
     "execution_count": 42,
     "metadata": {},
     "output_type": "execute_result"
    }
   ],
   "source": [
    "salaries.head()"
   ]
  },
  {
   "cell_type": "code",
   "execution_count": 43,
   "id": "796b919a-255d-424e-a980-b6d2d79b9d2a",
   "metadata": {},
   "outputs": [
    {
     "data": {
      "text/plain": [
       "72012.23585730705"
      ]
     },
     "execution_count": 43,
     "metadata": {},
     "output_type": "execute_result"
    }
   ],
   "source": [
    "mean= salaries.salary.mean()\n",
    "mean"
   ]
  },
  {
   "cell_type": "code",
   "execution_count": 44,
   "id": "3b2fafdb-ea5d-4b13-ae2e-1e7e7a912b68",
   "metadata": {},
   "outputs": [
    {
     "data": {
      "text/plain": [
       "17309.99538025198"
      ]
     },
     "execution_count": 44,
     "metadata": {},
     "output_type": "execute_result"
    }
   ],
   "source": [
    "std_dev= salaries.salary.std()\n",
    "std_dev"
   ]
  },
  {
   "cell_type": "code",
   "execution_count": 45,
   "id": "93f36c53-5ac8-4bac-8e93-cba8d604d921",
   "metadata": {},
   "outputs": [
    {
     "data": {
      "text/plain": [
       "array([0.33506057])"
      ]
     },
     "execution_count": 45,
     "metadata": {},
     "output_type": "execute_result"
    }
   ],
   "source": [
    "np.diff(stats.norm(mean, std_dev).cdf([65_000,80_000]))"
   ]
  },
  {
   "cell_type": "code",
   "execution_count": 46,
   "id": "14c63fda-f650-4639-a19e-8a568cbfd317",
   "metadata": {},
   "outputs": [
    {
     "data": {
      "text/plain": [
       "100484.64454102777"
      ]
     },
     "execution_count": 46,
     "metadata": {},
     "output_type": "execute_result"
    }
   ],
   "source": [
    "stats.norm(mean, std_dev).isf(.05)"
   ]
  },
  {
   "cell_type": "markdown",
   "id": "e43d0719-0bc6-4e0d-8c39-60d31b3503d9",
   "metadata": {},
   "source": [
    "    a. What percent of employees earn less than 60,000?"
   ]
  },
  {
   "cell_type": "code",
   "execution_count": 47,
   "id": "866fb0fe-f903-46e3-880c-7aaf40afc033",
   "metadata": {},
   "outputs": [
    {
     "data": {
      "text/plain": [
       "0.24385742480214423"
      ]
     },
     "execution_count": 47,
     "metadata": {},
     "output_type": "execute_result"
    }
   ],
   "source": [
    "stats.norm(mean, std_dev).cdf(60_000)"
   ]
  },
  {
   "cell_type": "markdown",
   "id": "1e67584b-aafe-400d-a338-3565e4d21eed",
   "metadata": {},
   "source": [
    "    b. What percent of employees earn more than 95,000?"
   ]
  },
  {
   "cell_type": "code",
   "execution_count": 48,
   "id": "0b029046-bc22-43e5-a9b2-179542db5d77",
   "metadata": {},
   "outputs": [
    {
     "data": {
      "text/plain": [
       "0.09208819199804053"
      ]
     },
     "execution_count": 48,
     "metadata": {},
     "output_type": "execute_result"
    }
   ],
   "source": [
    "stats.norm(mean, std_dev).sf(95000)"
   ]
  },
  {
   "cell_type": "markdown",
   "id": "3f7c025d-a605-4149-9e97-7b958ba3fbae",
   "metadata": {},
   "source": [
    "    c. What percent of employees earn between 65,000 and 80,000?"
   ]
  },
  {
   "cell_type": "code",
   "execution_count": 49,
   "id": "641bc7f9-4f5d-44ea-a485-12b8c59e4a4b",
   "metadata": {},
   "outputs": [
    {
     "data": {
      "text/plain": [
       "array([0.33506057])"
      ]
     },
     "execution_count": 49,
     "metadata": {},
     "output_type": "execute_result"
    }
   ],
   "source": [
    "np.diff(stats.norm(mean, std_dev).cdf([65000,80000]))"
   ]
  },
  {
   "cell_type": "markdown",
   "id": "659f4002-3d03-4377-8645-4dfe82c6c416",
   "metadata": {},
   "source": [
    "    d. What do the top 5% of employees make?"
   ]
  },
  {
   "cell_type": "code",
   "execution_count": 50,
   "id": "0ced7e23-0094-4413-98b5-2588f7988497",
   "metadata": {},
   "outputs": [
    {
     "data": {
      "text/plain": [
       "100484.64454102777"
      ]
     },
     "execution_count": 50,
     "metadata": {},
     "output_type": "execute_result"
    }
   ],
   "source": [
    "stats.norm(mean, std_dev).isf(.05)"
   ]
  },
  {
   "cell_type": "code",
   "execution_count": 51,
   "id": "fbf2c810-5cbe-4ba1-929a-3358c1e014a1",
   "metadata": {},
   "outputs": [
    {
     "data": {
      "text/plain": [
       "<Axes: >"
      ]
     },
     "execution_count": 51,
     "metadata": {},
     "output_type": "execute_result"
    },
    {
     "data": {
      "image/png": "[encoded data removed]",
      "text/plain": [
       "<Figure size 640x480 with 1 Axes>"
      ]
     },
     "metadata": {},
     "output_type": "display_data"
    }
   ],
   "source": [
    "salaries.salary.hist()\n",
    "pd.Series(stats.norm(mean, std_dev).rvs(240124)).hist(alpha = 0.5)"
   ]
  },
  {
   "cell_type": "markdown",
   "id": "44a5fb8b-a352-446f-9135-e916e3bad76a",
   "metadata": {},
   "source": [
    "#### **Hint If you're looking at this exercise and wondering \"How do I get pandas to talk the database, again?\", remember that you'll need 3 things: your .gitignore, your env.py, and to use pd.read_sql. Copy over your .gitignore and env.py from your data science libraries exercises folder, and connect to the employees database like so:**"
   ]
  },
  {
   "cell_type": "code",
   "execution_count": 52,
   "id": "741688b3-c20d-4da1-8d7a-9ee977449438",
   "metadata": {},
   "outputs": [
    {
     "data": {
      "text/plain": [
       "\"\\nimport pandas as pd\\nimport env\\nfrom sqlalchemy import text, create_engine\\n\\nurl = f'mysql+pymysql://{env.user}:{env.password}@{env.host}/employees'\\nengine = create_engine(url)    \\npd.read_sql(text('SELECT * FROM departments'), engine.connect())\\n\\n\\nWhile time is the most common interval used, the poisson distribution can also be used for intervals like distance, area, or volume. ↩\\n\""
      ]
     },
     "execution_count": 52,
     "metadata": {},
     "output_type": "execute_result"
    }
   ],
   "source": [
    "\"\"\"\n",
    "import pandas as pd\n",
    "import env\n",
    "from sqlalchemy import text, create_engine\n",
    "\n",
    "url = f'mysql+pymysql://{env.user}:{env.password}@{env.host}/employees'\n",
    "engine = create_engine(url)    \n",
    "pd.read_sql(text('SELECT * FROM departments'), engine.connect())\n",
    "\n",
    "\n",
    "While time is the most common interval used, the poisson distribution can also be used for intervals like distance, area, or volume. ↩\n",
    "\"\"\""
   ]
  }
 ],
 "metadata": {
  "kernelspec": {
   "display_name": "Python 3 (ipykernel)",
   "language": "python",
   "name": "python3"
  },
  "language_info": {
   "codemirror_mode": {
    "name": "ipython",
    "version": 3
   },
   "file_extension": ".py",
   "mimetype": "text/x-python",
   "name": "python",
   "nbconvert_exporter": "python",
   "pygments_lexer": "ipython3",
   "version": "3.10.9"
  }
 },
 "nbformat": 4,
 "nbformat_minor": 5
}
