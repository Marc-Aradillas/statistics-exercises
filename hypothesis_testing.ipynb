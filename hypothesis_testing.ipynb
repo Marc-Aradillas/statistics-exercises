{
 "cells": [
  {
   "cell_type": "markdown",
   "id": "308be058-e476-43e8-a5dd-6a855226e25b",
   "metadata": {},
   "source": [
    "For each of the following questions, formulate a null and alternative hypothesis (be as specific as you can be), then give an example of what a true positive, true negative, type I and type II errors would look like. Note that some of the questions are intentionally phrased in a vague way. It is your job to reword these as more precise questions that could be tested."
   ]
  },
  {
   "cell_type": "markdown",
   "id": "6fab894a-c472-48ca-a449-f205d687a935",
   "metadata": {},
   "source": [
    "- Has the network latency gone up since we switched internet service providers?"
   ]
  },
  {
   "cell_type": "markdown",
   "id": "012b70b8-dcc4-4779-954a-d4d4f3f9a735",
   "metadata": {},
   "source": [
    "NULL HYPOTHESIS (H0): The network latency has not changed since we switched ISPs.\n",
    "\n",
    "ALTERNATE HYPOTHESIS (Ha): The network latency has increased since we switched ISPs.\n",
    "\n",
    "TRUE (+): After switching ISPs, the network latency has gone up and the test detects this change.\n",
    "\n",
    "TRUE (-): After switching ISPs, the network latency did not change. the test shows no increase or changes.\n",
    "\n",
    "TYPE I ERROR: The test poorly identify any increase in network latency when there is no change\n",
    "\n",
    "TYPE II ERROR: The tests failed to identify an increase in nework latency, even after it shows it has gone up."
   ]
  },
  {
   "cell_type": "markdown",
   "id": "9a4e501f-2325-4cb4-9683-92313d729703",
   "metadata": {},
   "source": [
    "- Is the website redesign any good?"
   ]
  },
  {
   "cell_type": "markdown",
   "id": "732637a5-0d66-4917-9c11-59e9f96803f7",
   "metadata": {},
   "source": [
    "NULL HYPOTHESIS (H0): The web redesign is not as good and has not had any impact on metrics.\n",
    "\n",
    "ALTERNATE HYPOTHESIS (Ha): The web redesign is good and has driven user count and engagement.\n",
    "\n",
    "TRUE (+): The redesign of the website shows promising results for metrics, and the test reflects those outcomes.\n",
    "\n",
    "TRUE (-): The redesign of the website is not driving any change in website metrics, and the test shows there was no impact from the redesign.\n",
    "\n",
    "TYPE I ERROR: The test shows false when indicating an improvement in website metrics, but there is no change\n",
    "\n",
    "TYPE II ERROR: The test failed ot detect an improvement in website metrics, even as the redesign has made an improvement."
   ]
  },
  {
   "cell_type": "markdown",
   "id": "818e01f9-542c-4a74-a402-5b3f65afed1f",
   "metadata": {},
   "source": [
    "- Is our television ad driving more sales?"
   ]
  },
  {
   "cell_type": "markdown",
   "id": "5056821e-193d-4425-848a-92015d19115c",
   "metadata": {},
   "source": [
    "NULL HYPOTHESIS (H0): The television advertisement has failed to drive sales and has not driven sales.\n",
    "\n",
    "ALTERNATE HYPOTHESIS (Ha): The television advertisement has made changes, and has driven sales.\n",
    "\n",
    "TRUE (+): The TV advertisement has made impact on sales and the test is correctly displays those results.\n",
    "\n",
    "TRUE (-): The TV advertisement has not made an impact on sales and the test reflects those negative results.\n",
    "\n",
    "TYPE I ERROR: The test shows TV ad sales conditions are respresented as false, but we can see that there is no change.\n",
    "\n",
    "TYPE II ERROR: The test faield to display increase in sales from the TV ad, even though there is an up-tick in sales."
   ]
  }
 ],
 "metadata": {
  "kernelspec": {
   "display_name": "Python 3 (ipykernel)",
   "language": "python",
   "name": "python3"
  },
  "language_info": {
   "codemirror_mode": {
    "name": "ipython",
    "version": 3
   },
   "file_extension": ".py",
   "mimetype": "text/x-python",
   "name": "python",
   "nbconvert_exporter": "python",
   "pygments_lexer": "ipython3",
   "version": "3.10.9"
  }
 },
 "nbformat": 4,
 "nbformat_minor": 5
}
