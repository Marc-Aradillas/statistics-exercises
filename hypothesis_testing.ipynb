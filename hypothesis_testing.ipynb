{
 "cells": [
  {
   "cell_type": "markdown",
   "id": "7d7c8048-9019-4068-8df7-8b0a30599961",
   "metadata": {},
   "source": [
    "# Exercise I"
   ]
  },
  {
   "cell_type": "markdown",
   "id": "308be058-e476-43e8-a5dd-6a855226e25b",
   "metadata": {},
   "source": [
    "**For each of the following questions, formulate a null and alternative hypothesis (be as specific as you can be), then give an example of what a true positive, true negative, type I and type II errors would look like. Note that some of the questions are intentionally phrased in a vague way. It is your job to reword these as more precise questions that could be tested.**"
   ]
  },
  {
   "cell_type": "markdown",
   "id": "b8857591-35cb-49f7-8a6c-261d1e292794",
   "metadata": {},
   "source": [
    "### - *revisit wording to improve and get comfortable."
   ]
  },
  {
   "cell_type": "markdown",
   "id": "6fab894a-c472-48ca-a449-f205d687a935",
   "metadata": {},
   "source": [
    "- **Has the network latency gone up since we switched internet service providers?**"
   ]
  },
  {
   "cell_type": "markdown",
   "id": "012b70b8-dcc4-4779-954a-d4d4f3f9a735",
   "metadata": {},
   "source": [
    "NULL HYPOTHESIS (H0): The network latency has not changed since we switched ISPs.\n",
    "\n",
    "ALTERNATE HYPOTHESIS (Ha): The network latency has increased since we switched ISPs.\n",
    "\n",
    "TRUE (+): After switching ISPs, the network latency has gone up and the test detects this change.\n",
    "\n",
    "TRUE (-): After switching ISPs, the network latency did not change. the test shows no increase or changes.\n",
    "\n",
    "TYPE I ERROR: The test poorly identify any increase in network latency when there is no change\n",
    "\n",
    "TYPE II ERROR: The tests failed to identify an increase in nework latency, even after it shows it has gone up."
   ]
  },
  {
   "cell_type": "markdown",
   "id": "9a4e501f-2325-4cb4-9683-92313d729703",
   "metadata": {},
   "source": [
    "- **Is the website redesign any good?**"
   ]
  },
  {
   "cell_type": "markdown",
   "id": "732637a5-0d66-4917-9c11-59e9f96803f7",
   "metadata": {},
   "source": [
    "NULL HYPOTHESIS (H0): The web redesign is not as good and has not had any impact on metrics.\n",
    "\n",
    "ALTERNATE HYPOTHESIS (Ha): The web redesign is good and has driven user count and engagement.\n",
    "\n",
    "TRUE (+): The redesign of the website shows promising results for metrics, and the test reflects those outcomes.\n",
    "\n",
    "TRUE (-): The redesign of the website is not driving any change in website metrics, and the test shows there was no impact from the redesign.\n",
    "\n",
    "TYPE I ERROR: The test shows false when indicating an improvement in website metrics, but there is no change\n",
    "\n",
    "TYPE II ERROR: The test failed ot detect an improvement in website metrics, even as the redesign has made an improvement."
   ]
  },
  {
   "cell_type": "markdown",
   "id": "818e01f9-542c-4a74-a402-5b3f65afed1f",
   "metadata": {},
   "source": [
    "- **Is our television ad driving more sales?**"
   ]
  },
  {
   "cell_type": "markdown",
   "id": "5056821e-193d-4425-848a-92015d19115c",
   "metadata": {},
   "source": [
    "NULL HYPOTHESIS (H0): The television advertisement has failed to drive sales and has not driven sales.\n",
    "\n",
    "ALTERNATE HYPOTHESIS (Ha): The television advertisement has made changes, and has driven sales.\n",
    "\n",
    "TRUE (+): The TV advertisement has made impact on sales and the test is correctly displays those results.\n",
    "\n",
    "TRUE (-): The TV advertisement has not made an impact on sales and the test reflects those negative results.\n",
    "\n",
    "TYPE I ERROR: The test shows TV ad sales conditions are respresented as false, but we can see that there is no change.\n",
    "\n",
    "TYPE II ERROR: The test faield to display increase in sales from the TV ad, even though there is an up-tick in sales."
   ]
  },
  {
   "cell_type": "markdown",
   "id": "ba8bc548-d74a-4494-9bc7-f2be14837d3d",
   "metadata": {},
   "source": [
    "# **------------------------------------------------------------------------------------------------------------------------------------------------------------------**"
   ]
  },
  {
   "cell_type": "markdown",
   "id": "bbbb7240-6728-435c-a609-8d1646e610a0",
   "metadata": {},
   "source": [
    "#### continued..."
   ]
  },
  {
   "cell_type": "markdown",
   "id": "f2e57b61-ef00-4ec1-aadc-cd1ec301ef04",
   "metadata": {},
   "source": [
    "# Exercise II"
   ]
  },
  {
   "cell_type": "markdown",
   "id": "186aa92e-0a41-46d0-86a3-7021bc356e35",
   "metadata": {},
   "source": [
    "Continue working in your hypothesis_testing notebook."
   ]
  },
  {
   "cell_type": "markdown",
   "id": "406c3b4c-4a21-4df9-a937-8b3b9df1df92",
   "metadata": {},
   "source": [
    "1. **Use the following contingency table to help answer the question of whether using a macbook and being a codeup student are independent of each other.**"
   ]
  },
  {
   "attachments": {
    "03f36aec-c8cd-4288-9c64-571bab54ede7.jpeg": {
     "image/jpeg": "[encoded data removed]"
    }
   },
   "cell_type": "markdown",
   "id": "14c75335-8a9f-44dd-bcd3-df9dbedff1e8",
   "metadata": {},
   "source": [
    "![New Note.jpeg](attachment:03f36aec-c8cd-4288-9c64-571bab54ede7.jpeg)"
   ]
  },
  {
   "cell_type": "markdown",
   "id": "255ee791-3b50-4b9a-bb5b-8301b5c2bcf9",
   "metadata": {},
   "source": [
    "#### **Step 1 - Form hypotheses and set a desired confidence level**\n",
    "**NULL HYPOTHESIS (H0):** Macbook use is independent from being a codeup student\n",
    "\n",
    "**ALTERNATE HYPOTHESIS (Ha):** Macbook use is dependent on being a codeup student"
   ]
  },
  {
   "cell_type": "code",
   "execution_count": 5,
   "id": "8f4f577a-e0b3-4cca-85f4-a1a859ab7706",
   "metadata": {},
   "outputs": [],
   "source": [
    "# State our alpha to set our confidence interval.\n",
    "alpha = 0.05"
   ]
  },
  {
   "cell_type": "markdown",
   "id": "16b71d54-f01e-432e-9dd5-fda8d685daba",
   "metadata": {},
   "source": [
    "#### **Step 2 - Calculate the appropriate test statistics and p-value**"
   ]
  },
  {
   "cell_type": "code",
   "execution_count": null,
   "id": "8bbd8293-3af9-4340-972b-19974463b503",
   "metadata": {},
   "outputs": [],
   "source": [
    "observed = pd.crosstab(mpg.drv, mpg.transmission)\n",
    "observed"
   ]
  },
  {
   "cell_type": "markdown",
   "id": "25216774-2a21-4400-be45-43140630f679",
   "metadata": {},
   "source": [
    "2. **Choose another 2 categorical variables from the mpg dataset.**"
   ]
  },
  {
   "cell_type": "markdown",
   "id": "a91122a1-c507-406b-a599-dfb5f70f06b7",
   "metadata": {},
   "source": [
    "#### **Categorical variables:**\n",
    "\n",
    "- Manufacturer | class"
   ]
  },
  {
   "cell_type": "code",
   "execution_count": 4,
   "id": "8e874c20-4c49-44ec-b0ee-aefd3cc9a0d3",
   "metadata": {},
   "outputs": [
    {
     "data": {
      "text/html": [
       "<div>\n",
       "<style scoped>\n",
       "    .dataframe tbody tr th:only-of-type {\n",
       "        vertical-align: middle;\n",
       "    }\n",
       "\n",
       "    .dataframe tbody tr th {\n",
       "        vertical-align: top;\n",
       "    }\n",
       "\n",
       "    .dataframe thead th {\n",
       "        text-align: right;\n",
       "    }\n",
       "</style>\n",
       "<table border=\"1\" class=\"dataframe\">\n",
       "  <thead>\n",
       "    <tr style=\"text-align: right;\">\n",
       "      <th></th>\n",
       "      <th>manufacturer</th>\n",
       "      <th>model</th>\n",
       "      <th>displ</th>\n",
       "      <th>year</th>\n",
       "      <th>cyl</th>\n",
       "      <th>trans</th>\n",
       "      <th>drv</th>\n",
       "      <th>cty</th>\n",
       "      <th>hwy</th>\n",
       "      <th>fl</th>\n",
       "      <th>class</th>\n",
       "    </tr>\n",
       "  </thead>\n",
       "  <tbody>\n",
       "    <tr>\n",
       "      <th>1</th>\n",
       "      <td>audi</td>\n",
       "      <td>a4</td>\n",
       "      <td>1.8</td>\n",
       "      <td>1999</td>\n",
       "      <td>4</td>\n",
       "      <td>auto(l5)</td>\n",
       "      <td>f</td>\n",
       "      <td>18</td>\n",
       "      <td>29</td>\n",
       "      <td>p</td>\n",
       "      <td>compact</td>\n",
       "    </tr>\n",
       "    <tr>\n",
       "      <th>2</th>\n",
       "      <td>audi</td>\n",
       "      <td>a4</td>\n",
       "      <td>1.8</td>\n",
       "      <td>1999</td>\n",
       "      <td>4</td>\n",
       "      <td>manual(m5)</td>\n",
       "      <td>f</td>\n",
       "      <td>21</td>\n",
       "      <td>29</td>\n",
       "      <td>p</td>\n",
       "      <td>compact</td>\n",
       "    </tr>\n",
       "    <tr>\n",
       "      <th>3</th>\n",
       "      <td>audi</td>\n",
       "      <td>a4</td>\n",
       "      <td>2.0</td>\n",
       "      <td>2008</td>\n",
       "      <td>4</td>\n",
       "      <td>manual(m6)</td>\n",
       "      <td>f</td>\n",
       "      <td>20</td>\n",
       "      <td>31</td>\n",
       "      <td>p</td>\n",
       "      <td>compact</td>\n",
       "    </tr>\n",
       "    <tr>\n",
       "      <th>4</th>\n",
       "      <td>audi</td>\n",
       "      <td>a4</td>\n",
       "      <td>2.0</td>\n",
       "      <td>2008</td>\n",
       "      <td>4</td>\n",
       "      <td>auto(av)</td>\n",
       "      <td>f</td>\n",
       "      <td>21</td>\n",
       "      <td>30</td>\n",
       "      <td>p</td>\n",
       "      <td>compact</td>\n",
       "    </tr>\n",
       "    <tr>\n",
       "      <th>5</th>\n",
       "      <td>audi</td>\n",
       "      <td>a4</td>\n",
       "      <td>2.8</td>\n",
       "      <td>1999</td>\n",
       "      <td>6</td>\n",
       "      <td>auto(l5)</td>\n",
       "      <td>f</td>\n",
       "      <td>16</td>\n",
       "      <td>26</td>\n",
       "      <td>p</td>\n",
       "      <td>compact</td>\n",
       "    </tr>\n",
       "  </tbody>\n",
       "</table>\n",
       "</div>"
      ],
      "text/plain": [
       "  manufacturer model  displ  year  cyl       trans drv  cty  hwy fl    class\n",
       "1         audi    a4    1.8  1999    4    auto(l5)   f   18   29  p  compact\n",
       "2         audi    a4    1.8  1999    4  manual(m5)   f   21   29  p  compact\n",
       "3         audi    a4    2.0  2008    4  manual(m6)   f   20   31  p  compact\n",
       "4         audi    a4    2.0  2008    4    auto(av)   f   21   30  p  compact\n",
       "5         audi    a4    2.8  1999    6    auto(l5)   f   16   26  p  compact"
      ]
     },
     "execution_count": 4,
     "metadata": {},
     "output_type": "execute_result"
    }
   ],
   "source": [
    "import pandas as pd\n",
    "import numpy as np\n",
    "import matplotlib.pyplot as plt\n",
    "\n",
    "from pydataset import data\n",
    "from scipy import stats\n",
    "\n",
    "\n",
    "mpg = data('mpg')\n",
    "mpg.head()"
   ]
  },
  {
   "cell_type": "markdown",
   "id": "b5b18576-48cb-467d-9356-0cd29f9991e4",
   "metadata": {},
   "source": [
    "- State your null and alternative hypotheses."
   ]
  },
  {
   "cell_type": "markdown",
   "id": "0fa6ec95-3705-4d7f-bccd-0ff918fe6101",
   "metadata": {},
   "source": [
    "NULL HYPOTHESIS (H0): A use of a macbook does not mean you "
   ]
  },
  {
   "cell_type": "markdown",
   "id": "7cd47316-81c6-46b3-85bd-0d811a4831d0",
   "metadata": {},
   "source": [
    "- State your alpha."
   ]
  },
  {
   "cell_type": "markdown",
   "id": "b5678b4a-2c3e-4cbd-b53a-80f85f1ac564",
   "metadata": {},
   "source": []
  },
  {
   "cell_type": "markdown",
   "id": "36b35289-de53-4f20-a5ed-4812e113545d",
   "metadata": {},
   "source": [
    "- Perform a chi2 test of indepedence."
   ]
  },
  {
   "cell_type": "markdown",
   "id": "23e715d5-d3fa-465b-953a-427ac20cbb20",
   "metadata": {},
   "source": []
  },
  {
   "cell_type": "markdown",
   "id": "58ee4223-077e-483d-b4fe-760d47989c86",
   "metadata": {},
   "source": [
    "- State your conclusion"
   ]
  },
  {
   "cell_type": "markdown",
   "id": "ba2b115d-b772-49d3-a963-ea247a7ce457",
   "metadata": {},
   "source": []
  },
  {
   "cell_type": "markdown",
   "id": "688984ab-a049-4811-b7e4-666d25b1370e",
   "metadata": {},
   "source": [
    "  \n",
    "3. **Use the data from the employees database to answer these questions:**"
   ]
  },
  {
   "cell_type": "markdown",
   "id": "b124345d-8468-43cc-818c-a097b4de859e",
   "metadata": {},
   "source": [
    "- Is an employee's gender independent of whether an employee works in sales or marketing? (only look at current employees)\n"
   ]
  },
  {
   "cell_type": "markdown",
   "id": "611ff5a9-cb29-4085-8465-884954b9f423",
   "metadata": {},
   "source": []
  },
  {
   "cell_type": "markdown",
   "id": "2bbce3a7-1ab0-43b8-b88a-4c0c66631efd",
   "metadata": {},
   "source": [
    "- Is an employee's gender independent of whether or not they are or have been a manager?"
   ]
  },
  {
   "cell_type": "markdown",
   "id": "3b64eef6-b719-453c-b8b7-df9d18b2b222",
   "metadata": {},
   "source": []
  }
 ],
 "metadata": {
  "kernelspec": {
   "display_name": "Python 3 (ipykernel)",
   "language": "python",
   "name": "python3"
  },
  "language_info": {
   "codemirror_mode": {
    "name": "ipython",
    "version": 3
   },
   "file_extension": ".py",
   "mimetype": "text/x-python",
   "name": "python",
   "nbconvert_exporter": "python",
   "pygments_lexer": "ipython3",
   "version": "3.10.9"
  }
 },
 "nbformat": 4,
 "nbformat_minor": 5
}
