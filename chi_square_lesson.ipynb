{
 "cells": [
  {
   "cell_type": "code",
   "execution_count": 1,
   "id": "c60735f1",
   "metadata": {},
   "outputs": [
    {
     "data": {
      "application/javascript": [
       "IPython.notebook.set_autosave_interval(0)"
      ]
     },
     "metadata": {},
     "output_type": "display_data"
    },
    {
     "name": "stdout",
     "output_type": "stream",
     "text": [
      "Autosave disabled\n"
     ]
    }
   ],
   "source": [
    "%autosave 0"
   ]
  },
  {
   "cell_type": "markdown",
   "id": "e1893514",
   "metadata": {},
   "source": [
    "The chi^2 test will determine if membership to one group affects membership to another."
   ]
  },
  {
   "cell_type": "code",
   "execution_count": null,
   "id": "2049e6c6",
   "metadata": {},
   "outputs": [],
   "source": [
    "import numpy as np\n",
    "import pandas as pd\n",
    "\n",
    "from pydataset import data\n",
    "from scipy import stats"
   ]
  },
  {
   "cell_type": "markdown",
   "id": "3f1323c8",
   "metadata": {},
   "source": [
    "Let's read in the mpg dataset from pydataset!"
   ]
  },
  {
   "cell_type": "code",
   "execution_count": null,
   "id": "8d5a4391",
   "metadata": {},
   "outputs": [],
   "source": [
    "mpg = data('mpg')\n",
    "mpg.head()"
   ]
  },
  {
   "cell_type": "markdown",
   "id": "ea044803",
   "metadata": {},
   "source": [
    "Let's do some feature engineering.\n",
    "\n",
    "Our goal is to compare above/below average mpg to automatic/manual transmission."
   ]
  },
  {
   "cell_type": "code",
   "execution_count": null,
   "id": "5d701778",
   "metadata": {
    "scrolled": true
   },
   "outputs": [],
   "source": [
    "mpg['mean_mpg'] = (mpg.cty + mpg.hwy) / 2\n",
    "mpg.head()"
   ]
  },
  {
   "cell_type": "code",
   "execution_count": null,
   "id": "03adee78-2e0b-4112-9ac1-f28d6cf9bcc2",
   "metadata": {
    "scrolled": true
   },
   "outputs": [],
   "source": [
    "mpg['mpg_cat'] = pd.qcut(mpg.mean_mpg, 2, labels = ['low_mpg', 'high-mpg']) #instead of continous values, we now hav either high or low mpg.\n",
    "mpg.head()"
   ]
  },
  {
   "cell_type": "code",
   "execution_count": null,
   "id": "3ab88c84-430d-49ae-a6e2-378620111a81",
   "metadata": {},
   "outputs": [],
   "source": [
    "mpg.mpg_cat.value_counts() #pd qcut making 2 bins ; we hvae categorized our cars."
   ]
  },
  {
   "cell_type": "code",
   "execution_count": null,
   "id": "18f1b350-7644-4ca6-8a71-f1d4dc77d16e",
   "metadata": {},
   "outputs": [],
   "source": [
    "mpg['trans_bin'] = np.where(mpg.trans.str.startswith('a'), 'auto', 'manual')\n",
    "mpg.head()"
   ]
  },
  {
   "cell_type": "markdown",
   "id": "a325f665",
   "metadata": {},
   "source": [
    "Now that we have our categorical features, we can prepare to run a chi^2 contingency test!\n",
    "\n",
    "First, we need to define our null and alternative hypotheses."
   ]
  },
  {
   "cell_type": "markdown",
   "id": "ca21c8ab-842f-45c4-98ed-a87544335d72",
   "metadata": {},
   "source": [
    "- **Null hypothesis (H0)= transmission type does NOT affect mpg**\n",
    "- **Alternative hypothesis (Ha) = transmission type DOES affect mpg**"
   ]
  },
  {
   "cell_type": "markdown",
   "id": "1b7b7ccd",
   "metadata": {},
   "source": []
  },
  {
   "cell_type": "markdown",
   "id": "199563ac",
   "metadata": {},
   "source": [
    "We need to generate a crosstab of our two categorical features.\n",
    "\n",
    "Once we have the crosstab, we can run the test!"
   ]
  },
  {
   "cell_type": "code",
   "execution_count": null,
   "id": "55de73b5",
   "metadata": {},
   "outputs": [],
   "source": [
    "#this is the correct type of object to feed into the chi-squared test\n",
    "ct = pd.crosstab(mpg.mpg_cat, mpg.trans_bin)"
   ]
  },
  {
   "cell_type": "code",
   "execution_count": null,
   "id": "5be17906",
   "metadata": {},
   "outputs": [],
   "source": [
    "chi, p, degf, exp = stats.chi2_contingency(ct)"
   ]
  },
  {
   "cell_type": "code",
   "execution_count": null,
   "id": "0624d9a5-0aae-4abd-a5ac-bc74c54e8ea6",
   "metadata": {},
   "outputs": [],
   "source": [
    "degf"
   ]
  },
  {
   "cell_type": "code",
   "execution_count": null,
   "id": "9d8428ec-e3ed-443f-bb34-0d22b069b0f5",
   "metadata": {},
   "outputs": [],
   "source": [
    "exp"
   ]
  },
  {
   "cell_type": "code",
   "execution_count": null,
   "id": "6ea4e67b-d849-4912-a019-283846484aa6",
   "metadata": {},
   "outputs": [],
   "source": [
    "ct"
   ]
  },
  {
   "cell_type": "markdown",
   "id": "02d5f3ba",
   "metadata": {},
   "source": [
    "The test will return four values:\n",
    "- The test statistic (chi^2)\n",
    "- The p-value\n",
    "- The degrees of freedom (sample size minus 1)\n",
    "- The table of expected values, if the two features were independent of each other"
   ]
  },
  {
   "cell_type": "code",
   "execution_count": null,
   "id": "9fb9817d-96f9-4822-8732-3d0bd4c096c7",
   "metadata": {},
   "outputs": [],
   "source": [
    "ct"
   ]
  },
  {
   "cell_type": "markdown",
   "id": "4181b7e2",
   "metadata": {},
   "source": [
    "Let's evaluate our result using a 95% confidence interval!"
   ]
  },
  {
   "cell_type": "code",
   "execution_count": null,
   "id": "06926a24-1223-4497-8a98-992991a9965f",
   "metadata": {},
   "outputs": [],
   "source": [
    "a = 0.05"
   ]
  },
  {
   "cell_type": "code",
   "execution_count": null,
   "id": "db9b1f52-b417-45c7-9db2-6b3e93d9705a",
   "metadata": {},
   "outputs": [],
   "source": [
    "if p < a:\n",
    "    print('We reject the null hypothesis. There appears to be a relationship.')\n",
    "else: print('We failed to reject the null hypothesis.')"
   ]
  },
  {
   "cell_type": "markdown",
   "id": "5ca6c683-de23-4d30-8c59-61f807fb6342",
   "metadata": {},
   "source": [
    "# functions to return many values"
   ]
  },
  {
   "cell_type": "code",
   "execution_count": null,
   "id": "a9654785-7d61-43c0-848d-a87e3915b067",
   "metadata": {},
   "outputs": [],
   "source": [
    "def the_returner(x):\n",
    "    return x * 2, x ** 2, x ** 3, x * x"
   ]
  },
  {
   "cell_type": "code",
   "execution_count": null,
   "id": "cd791283-e9d9-450c-879c-6dd69129ef4f",
   "metadata": {
    "scrolled": true
   },
   "outputs": [],
   "source": [
    "the_returner(5)"
   ]
  },
  {
   "cell_type": "code",
   "execution_count": null,
   "id": "1f9be9ac-fda8-453a-ae86-2ff7bf4c1f90",
   "metadata": {},
   "outputs": [],
   "source": [
    "times_two, squared, cubes, times_itself = the_returner(5)"
   ]
  },
  {
   "cell_type": "code",
   "execution_count": null,
   "id": "103fcf82-e011-4d88-9c0f-99bcb4c96152",
   "metadata": {},
   "outputs": [],
   "source": [
    "squared"
   ]
  }
 ],
 "metadata": {
  "kernelspec": {
   "display_name": "Python 3 (ipykernel)",
   "language": "python",
   "name": "python3"
  },
  "language_info": {
   "codemirror_mode": {
    "name": "ipython",
    "version": 3
   },
   "file_extension": ".py",
   "mimetype": "text/x-python",
   "name": "python",
   "nbconvert_exporter": "python",
   "pygments_lexer": "ipython3",
   "version": "3.10.9"
  }
 },
 "nbformat": 4,
 "nbformat_minor": 5
}
